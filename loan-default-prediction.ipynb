{
 "cells": [
  {
   "cell_type": "markdown",
   "id": "7a549078",
   "metadata": {
    "papermill": {
     "duration": 0.019966,
     "end_time": "2022-09-13T18:00:43.140214",
     "exception": false,
     "start_time": "2022-09-13T18:00:43.120248",
     "status": "completed"
    },
    "tags": []
   },
   "source": [
    "# Project: Loan Default Prediction \n",
    "\n",
    "## Problem Formulation\n",
    "Banks earn a major revenue from lending loans. But it is often associated with risk. The borrower's may default on the loan. To mitigate this issue, the banks have decided to use Machine Learning to overcome this issue. They have collected past data on the loan borrowers. The dataset is enormous & consists of multiple deteministic factors like borrowe's income, gender, loan pupose etc. \n",
    "\n",
    "(Sourse of the data : https://www.kaggle.com/datasets/yasserh/loan-default-dataset)\n",
    "\n",
    "Number of Instances: 148670\n",
    "\n",
    "Number of Attributes: 34\n",
    "\n",
    "# Problem Statement\n",
    "The goal of this project is to build a machine learning model that can predict whether a customer will default on the loan or not.\n",
    "\n",
    "## Hypothesis Generation\n",
    "This is one of the important stages in any Data Science/Machine Learning pipeline. It involves understanding the problem in detail by brainstorming as many factors as possible which can impact the outcome. It is done by understanding the problem statement thoroughly and before looking at the data.\n",
    "\n",
    "Below are some of the factors which I think can highly affect the people who default on the loans :\n",
    "\n",
    "* Age: Mostly elder people or 20s people might not be able to repay the loans as they dont have much incomes.\n",
    "\n",
    "* Income: Income of a person plays a major role if a person lost his job or got losses on business  then he might be insolvent and he cant able to repay the loan .\n",
    "\n",
    "* Purpose of the loan: The purpose of a loan will surely impact the person to repay the loan. If he took the loan for personal expenses with out having much financial discipline. \n",
    "\n",
    "* Credit Score: People who are having good credit score having less chances of getting default on loan rather than people who dont have good credit score.\n",
    "\n",
    "## Steps to follow\n",
    "It is a Binary Classification Problem\n",
    "\n",
    "General Overview: Have a General Overview of the data\n",
    "\n",
    "* ##### EDA: Perform Exploratory Data Analysis(EDA) to gain more clear insights of the data\n",
    "* ##### Data Preprocessing: With the information gained after performing EDA, Preprocess the Data accordingly\n",
    "* ##### Model Building: Once the data is properly cleaned and preprocessed, use this data to build a Machine Learning\n",
    "* ##### Hyperparameter Tuning: Tune the Hyperparameters of the best performing model\n",
    "* ##### Model Performance: Assess the Performance of the Model on the Testing data set\n",
    "* ##### Save the model: Save the Best Performing Model\n",
    "* ##### Predictions: Make Predictions on the Testing data set\n",
    "\n",
    "\n",
    "\n"
   ]
  },
  {
   "cell_type": "code",
   "execution_count": 1,
   "id": "e2f3a29b",
   "metadata": {
    "execution": {
     "iopub.execute_input": "2022-09-13T18:00:43.178743Z",
     "iopub.status.busy": "2022-09-13T18:00:43.178243Z",
     "iopub.status.idle": "2022-09-13T18:00:44.721923Z",
     "shell.execute_reply": "2022-09-13T18:00:44.720533Z"
    },
    "papermill": {
     "duration": 1.567154,
     "end_time": "2022-09-13T18:00:44.725651",
     "exception": false,
     "start_time": "2022-09-13T18:00:43.158497",
     "status": "completed"
    },
    "tags": []
   },
   "outputs": [
    {
     "name": "stdout",
     "output_type": "stream",
     "text": [
      "/kaggle/input/loan-default-dataset/Loan_Default.csv\n"
     ]
    }
   ],
   "source": [
    "# For performing any kind of Mathematical Operations\n",
    "import numpy as np\n",
    "# For dealing with DataFrames\n",
    "import pandas as pd\n",
    "\n",
    "# For Data Visualization\n",
    "import matplotlib.pyplot as plt\n",
    "# For visualizing the plottings better\n",
    "%matplotlib inline\n",
    "# For Data Visualization\n",
    "import seaborn as sns\n",
    "\n",
    "# Preprocessing modules\n",
    "from sklearn.model_selection import train_test_split, RandomizedSearchCV, cross_val_score\n",
    "from sklearn.preprocessing import OneHotEncoder\n",
    "\n",
    "# Model\n",
    "from sklearn.linear_model import LogisticRegression\n",
    "from sklearn.tree import DecisionTreeClassifier\n",
    "from sklearn.ensemble import RandomForestClassifier\n",
    "\n",
    "# Metrics\n",
    "from sklearn.metrics import plot_confusion_matrix, classification_report, plot_roc_curve\n",
    "\n",
    "# Saving the model\n",
    "import pickle\n",
    "\n",
    "## to ignore waarning\n",
    "import warnings\n",
    "warnings.filterwarnings(\"ignore\")#, category=DeprecationWarning)\n",
    "\n",
    "\n",
    "import os\n",
    "for dirname, _, filenames in os.walk('/kaggle/input'):\n",
    "    for filename in filenames:\n",
    "        print(os.path.join(dirname, filename))"
   ]
  },
  {
   "cell_type": "code",
   "execution_count": 2,
   "id": "b0a58402",
   "metadata": {
    "execution": {
     "iopub.execute_input": "2022-09-13T18:00:44.765967Z",
     "iopub.status.busy": "2022-09-13T18:00:44.765087Z",
     "iopub.status.idle": "2022-09-13T18:00:45.788015Z",
     "shell.execute_reply": "2022-09-13T18:00:45.786762Z"
    },
    "papermill": {
     "duration": 1.045682,
     "end_time": "2022-09-13T18:00:45.790836",
     "exception": false,
     "start_time": "2022-09-13T18:00:44.745154",
     "status": "completed"
    },
    "tags": []
   },
   "outputs": [
    {
     "data": {
      "text/html": [
       "<div>\n",
       "<style scoped>\n",
       "    .dataframe tbody tr th:only-of-type {\n",
       "        vertical-align: middle;\n",
       "    }\n",
       "\n",
       "    .dataframe tbody tr th {\n",
       "        vertical-align: top;\n",
       "    }\n",
       "\n",
       "    .dataframe thead th {\n",
       "        text-align: right;\n",
       "    }\n",
       "</style>\n",
       "<table border=\"1\" class=\"dataframe\">\n",
       "  <thead>\n",
       "    <tr style=\"text-align: right;\">\n",
       "      <th></th>\n",
       "      <th>ID</th>\n",
       "      <th>year</th>\n",
       "      <th>loan_limit</th>\n",
       "      <th>Gender</th>\n",
       "      <th>approv_in_adv</th>\n",
       "      <th>loan_type</th>\n",
       "      <th>loan_purpose</th>\n",
       "      <th>Credit_Worthiness</th>\n",
       "      <th>open_credit</th>\n",
       "      <th>business_or_commercial</th>\n",
       "      <th>...</th>\n",
       "      <th>credit_type</th>\n",
       "      <th>Credit_Score</th>\n",
       "      <th>co-applicant_credit_type</th>\n",
       "      <th>age</th>\n",
       "      <th>submission_of_application</th>\n",
       "      <th>LTV</th>\n",
       "      <th>Region</th>\n",
       "      <th>Security_Type</th>\n",
       "      <th>Status</th>\n",
       "      <th>dtir1</th>\n",
       "    </tr>\n",
       "  </thead>\n",
       "  <tbody>\n",
       "    <tr>\n",
       "      <th>0</th>\n",
       "      <td>24890</td>\n",
       "      <td>2019</td>\n",
       "      <td>cf</td>\n",
       "      <td>Sex Not Available</td>\n",
       "      <td>nopre</td>\n",
       "      <td>type1</td>\n",
       "      <td>p1</td>\n",
       "      <td>l1</td>\n",
       "      <td>nopc</td>\n",
       "      <td>nob/c</td>\n",
       "      <td>...</td>\n",
       "      <td>EXP</td>\n",
       "      <td>758</td>\n",
       "      <td>CIB</td>\n",
       "      <td>25-34</td>\n",
       "      <td>to_inst</td>\n",
       "      <td>98.728814</td>\n",
       "      <td>south</td>\n",
       "      <td>direct</td>\n",
       "      <td>1</td>\n",
       "      <td>45.0</td>\n",
       "    </tr>\n",
       "    <tr>\n",
       "      <th>1</th>\n",
       "      <td>24891</td>\n",
       "      <td>2019</td>\n",
       "      <td>cf</td>\n",
       "      <td>Male</td>\n",
       "      <td>nopre</td>\n",
       "      <td>type2</td>\n",
       "      <td>p1</td>\n",
       "      <td>l1</td>\n",
       "      <td>nopc</td>\n",
       "      <td>b/c</td>\n",
       "      <td>...</td>\n",
       "      <td>EQUI</td>\n",
       "      <td>552</td>\n",
       "      <td>EXP</td>\n",
       "      <td>55-64</td>\n",
       "      <td>to_inst</td>\n",
       "      <td>NaN</td>\n",
       "      <td>North</td>\n",
       "      <td>direct</td>\n",
       "      <td>1</td>\n",
       "      <td>NaN</td>\n",
       "    </tr>\n",
       "    <tr>\n",
       "      <th>2</th>\n",
       "      <td>24892</td>\n",
       "      <td>2019</td>\n",
       "      <td>cf</td>\n",
       "      <td>Male</td>\n",
       "      <td>pre</td>\n",
       "      <td>type1</td>\n",
       "      <td>p1</td>\n",
       "      <td>l1</td>\n",
       "      <td>nopc</td>\n",
       "      <td>nob/c</td>\n",
       "      <td>...</td>\n",
       "      <td>EXP</td>\n",
       "      <td>834</td>\n",
       "      <td>CIB</td>\n",
       "      <td>35-44</td>\n",
       "      <td>to_inst</td>\n",
       "      <td>80.019685</td>\n",
       "      <td>south</td>\n",
       "      <td>direct</td>\n",
       "      <td>0</td>\n",
       "      <td>46.0</td>\n",
       "    </tr>\n",
       "    <tr>\n",
       "      <th>3</th>\n",
       "      <td>24893</td>\n",
       "      <td>2019</td>\n",
       "      <td>cf</td>\n",
       "      <td>Male</td>\n",
       "      <td>nopre</td>\n",
       "      <td>type1</td>\n",
       "      <td>p4</td>\n",
       "      <td>l1</td>\n",
       "      <td>nopc</td>\n",
       "      <td>nob/c</td>\n",
       "      <td>...</td>\n",
       "      <td>EXP</td>\n",
       "      <td>587</td>\n",
       "      <td>CIB</td>\n",
       "      <td>45-54</td>\n",
       "      <td>not_inst</td>\n",
       "      <td>69.376900</td>\n",
       "      <td>North</td>\n",
       "      <td>direct</td>\n",
       "      <td>0</td>\n",
       "      <td>42.0</td>\n",
       "    </tr>\n",
       "    <tr>\n",
       "      <th>4</th>\n",
       "      <td>24894</td>\n",
       "      <td>2019</td>\n",
       "      <td>cf</td>\n",
       "      <td>Joint</td>\n",
       "      <td>pre</td>\n",
       "      <td>type1</td>\n",
       "      <td>p1</td>\n",
       "      <td>l1</td>\n",
       "      <td>nopc</td>\n",
       "      <td>nob/c</td>\n",
       "      <td>...</td>\n",
       "      <td>CRIF</td>\n",
       "      <td>602</td>\n",
       "      <td>EXP</td>\n",
       "      <td>25-34</td>\n",
       "      <td>not_inst</td>\n",
       "      <td>91.886544</td>\n",
       "      <td>North</td>\n",
       "      <td>direct</td>\n",
       "      <td>0</td>\n",
       "      <td>39.0</td>\n",
       "    </tr>\n",
       "  </tbody>\n",
       "</table>\n",
       "<p>5 rows × 34 columns</p>\n",
       "</div>"
      ],
      "text/plain": [
       "      ID  year loan_limit             Gender approv_in_adv loan_type  \\\n",
       "0  24890  2019         cf  Sex Not Available         nopre     type1   \n",
       "1  24891  2019         cf               Male         nopre     type2   \n",
       "2  24892  2019         cf               Male           pre     type1   \n",
       "3  24893  2019         cf               Male         nopre     type1   \n",
       "4  24894  2019         cf              Joint           pre     type1   \n",
       "\n",
       "  loan_purpose Credit_Worthiness open_credit business_or_commercial  ...  \\\n",
       "0           p1                l1        nopc                  nob/c  ...   \n",
       "1           p1                l1        nopc                    b/c  ...   \n",
       "2           p1                l1        nopc                  nob/c  ...   \n",
       "3           p4                l1        nopc                  nob/c  ...   \n",
       "4           p1                l1        nopc                  nob/c  ...   \n",
       "\n",
       "   credit_type  Credit_Score  co-applicant_credit_type    age  \\\n",
       "0          EXP           758                       CIB  25-34   \n",
       "1         EQUI           552                       EXP  55-64   \n",
       "2          EXP           834                       CIB  35-44   \n",
       "3          EXP           587                       CIB  45-54   \n",
       "4         CRIF           602                       EXP  25-34   \n",
       "\n",
       "   submission_of_application        LTV Region Security_Type  Status dtir1  \n",
       "0                    to_inst  98.728814  south        direct       1  45.0  \n",
       "1                    to_inst        NaN  North        direct       1   NaN  \n",
       "2                    to_inst  80.019685  south        direct       0  46.0  \n",
       "3                   not_inst  69.376900  North        direct       0  42.0  \n",
       "4                   not_inst  91.886544  North        direct       0  39.0  \n",
       "\n",
       "[5 rows x 34 columns]"
      ]
     },
     "execution_count": 2,
     "metadata": {},
     "output_type": "execute_result"
    }
   ],
   "source": [
    "data = pd.read_csv('../input/loan-default-dataset/Loan_Default.csv')\n",
    "data.head()\n",
    "#Pandas head() method is used to return top n (5 by default) rows of a data frame or series"
   ]
  },
  {
   "cell_type": "code",
   "execution_count": 3,
   "id": "4a398382",
   "metadata": {
    "execution": {
     "iopub.execute_input": "2022-09-13T18:00:45.831220Z",
     "iopub.status.busy": "2022-09-13T18:00:45.830206Z",
     "iopub.status.idle": "2022-09-13T18:00:45.854610Z",
     "shell.execute_reply": "2022-09-13T18:00:45.853516Z"
    },
    "papermill": {
     "duration": 0.046776,
     "end_time": "2022-09-13T18:00:45.857046",
     "exception": false,
     "start_time": "2022-09-13T18:00:45.810270",
     "status": "completed"
    },
    "tags": []
   },
   "outputs": [
    {
     "data": {
      "text/plain": [
       "(148670, 34)"
      ]
     },
     "execution_count": 3,
     "metadata": {},
     "output_type": "execute_result"
    }
   ],
   "source": [
    "df = data.copy()\n",
    "df.shape\n",
    "\n",
    "#The shape property returns a tuple representing the dimensionality of the DataFrame. \n",
    "#The format of shape is (rows, columns).\n"
   ]
  },
  {
   "cell_type": "code",
   "execution_count": 4,
   "id": "5a56e10f",
   "metadata": {
    "execution": {
     "iopub.execute_input": "2022-09-13T18:00:45.896937Z",
     "iopub.status.busy": "2022-09-13T18:00:45.896323Z",
     "iopub.status.idle": "2022-09-13T18:00:46.053125Z",
     "shell.execute_reply": "2022-09-13T18:00:46.051471Z"
    },
    "papermill": {
     "duration": 0.179708,
     "end_time": "2022-09-13T18:00:46.055723",
     "exception": false,
     "start_time": "2022-09-13T18:00:45.876015",
     "status": "completed"
    },
    "tags": []
   },
   "outputs": [
    {
     "name": "stdout",
     "output_type": "stream",
     "text": [
      "<class 'pandas.core.frame.DataFrame'>\n",
      "RangeIndex: 148670 entries, 0 to 148669\n",
      "Data columns (total 34 columns):\n",
      " #   Column                     Non-Null Count   Dtype  \n",
      "---  ------                     --------------   -----  \n",
      " 0   ID                         148670 non-null  int64  \n",
      " 1   year                       148670 non-null  int64  \n",
      " 2   loan_limit                 145326 non-null  object \n",
      " 3   Gender                     148670 non-null  object \n",
      " 4   approv_in_adv              147762 non-null  object \n",
      " 5   loan_type                  148670 non-null  object \n",
      " 6   loan_purpose               148536 non-null  object \n",
      " 7   Credit_Worthiness          148670 non-null  object \n",
      " 8   open_credit                148670 non-null  object \n",
      " 9   business_or_commercial     148670 non-null  object \n",
      " 10  loan_amount                148670 non-null  int64  \n",
      " 11  rate_of_interest           112231 non-null  float64\n",
      " 12  Interest_rate_spread       112031 non-null  float64\n",
      " 13  Upfront_charges            109028 non-null  float64\n",
      " 14  term                       148629 non-null  float64\n",
      " 15  Neg_ammortization          148549 non-null  object \n",
      " 16  interest_only              148670 non-null  object \n",
      " 17  lump_sum_payment           148670 non-null  object \n",
      " 18  property_value             133572 non-null  float64\n",
      " 19  construction_type          148670 non-null  object \n",
      " 20  occupancy_type             148670 non-null  object \n",
      " 21  Secured_by                 148670 non-null  object \n",
      " 22  total_units                148670 non-null  object \n",
      " 23  income                     139520 non-null  float64\n",
      " 24  credit_type                148670 non-null  object \n",
      " 25  Credit_Score               148670 non-null  int64  \n",
      " 26  co-applicant_credit_type   148670 non-null  object \n",
      " 27  age                        148470 non-null  object \n",
      " 28  submission_of_application  148470 non-null  object \n",
      " 29  LTV                        133572 non-null  float64\n",
      " 30  Region                     148670 non-null  object \n",
      " 31  Security_Type              148670 non-null  object \n",
      " 32  Status                     148670 non-null  int64  \n",
      " 33  dtir1                      124549 non-null  float64\n",
      "dtypes: float64(8), int64(5), object(21)\n",
      "memory usage: 38.6+ MB\n"
     ]
    }
   ],
   "source": [
    "df.info()"
   ]
  },
  {
   "cell_type": "code",
   "execution_count": 5,
   "id": "d8bb9001",
   "metadata": {
    "execution": {
     "iopub.execute_input": "2022-09-13T18:00:46.095762Z",
     "iopub.status.busy": "2022-09-13T18:00:46.095058Z",
     "iopub.status.idle": "2022-09-13T18:00:46.100959Z",
     "shell.execute_reply": "2022-09-13T18:00:46.100063Z"
    },
    "papermill": {
     "duration": 0.028304,
     "end_time": "2022-09-13T18:00:46.103169",
     "exception": false,
     "start_time": "2022-09-13T18:00:46.074865",
     "status": "completed"
    },
    "tags": []
   },
   "outputs": [],
   "source": [
    "# Changing the 'co-applicant_credit_type' column name to  'co_applicant_credit_type'\n",
    "\n",
    "df.rename(columns={'co-applicant_credit_type': 'co_applicant_credit_type'}, inplace=True)"
   ]
  },
  {
   "cell_type": "markdown",
   "id": "ce1428f2",
   "metadata": {
    "papermill": {
     "duration": 0.018243,
     "end_time": "2022-09-13T18:00:46.139918",
     "exception": false,
     "start_time": "2022-09-13T18:00:46.121675",
     "status": "completed"
    },
    "tags": []
   },
   "source": [
    "# Missing Values"
   ]
  },
  {
   "cell_type": "code",
   "execution_count": 6,
   "id": "18a3d0d3",
   "metadata": {
    "execution": {
     "iopub.execute_input": "2022-09-13T18:00:46.179382Z",
     "iopub.status.busy": "2022-09-13T18:00:46.178684Z",
     "iopub.status.idle": "2022-09-13T18:00:46.322337Z",
     "shell.execute_reply": "2022-09-13T18:00:46.321113Z"
    },
    "papermill": {
     "duration": 0.166621,
     "end_time": "2022-09-13T18:00:46.325130",
     "exception": false,
     "start_time": "2022-09-13T18:00:46.158509",
     "status": "completed"
    },
    "tags": []
   },
   "outputs": [
    {
     "data": {
      "text/plain": [
       "ID                               0\n",
       "year                             0\n",
       "loan_limit                    3344\n",
       "Gender                           0\n",
       "approv_in_adv                  908\n",
       "loan_type                        0\n",
       "loan_purpose                   134\n",
       "Credit_Worthiness                0\n",
       "open_credit                      0\n",
       "business_or_commercial           0\n",
       "loan_amount                      0\n",
       "rate_of_interest             36439\n",
       "Interest_rate_spread         36639\n",
       "Upfront_charges              39642\n",
       "term                            41\n",
       "Neg_ammortization              121\n",
       "interest_only                    0\n",
       "lump_sum_payment                 0\n",
       "property_value               15098\n",
       "construction_type                0\n",
       "occupancy_type                   0\n",
       "Secured_by                       0\n",
       "total_units                      0\n",
       "income                        9150\n",
       "credit_type                      0\n",
       "Credit_Score                     0\n",
       "co_applicant_credit_type         0\n",
       "age                            200\n",
       "submission_of_application      200\n",
       "LTV                          15098\n",
       "Region                           0\n",
       "Security_Type                    0\n",
       "Status                           0\n",
       "dtir1                        24121\n",
       "dtype: int64"
      ]
     },
     "execution_count": 6,
     "metadata": {},
     "output_type": "execute_result"
    }
   ],
   "source": [
    "df.isnull().sum()"
   ]
  },
  {
   "cell_type": "markdown",
   "id": "de061978",
   "metadata": {
    "papermill": {
     "duration": 0.018583,
     "end_time": "2022-09-13T18:00:46.362761",
     "exception": false,
     "start_time": "2022-09-13T18:00:46.344178",
     "status": "completed"
    },
    "tags": []
   },
   "source": [
    "### There are null values present within the dataset for the few columns\n",
    "\n",
    "#### here we have 2 data types. we need to handle them seperately.\n",
    "\n",
    "##### 1. Numerical \n",
    "\n",
    "##### 2. categorical\n",
    "\n",
    "\n",
    "### 1. Dealing with the missing values columns of ( datatype = int and float ) by imputing with Mean"
   ]
  },
  {
   "cell_type": "code",
   "execution_count": 7,
   "id": "19b0e8cd",
   "metadata": {
    "execution": {
     "iopub.execute_input": "2022-09-13T18:00:46.402175Z",
     "iopub.status.busy": "2022-09-13T18:00:46.401779Z",
     "iopub.status.idle": "2022-09-13T18:00:46.448520Z",
     "shell.execute_reply": "2022-09-13T18:00:46.447507Z"
    },
    "papermill": {
     "duration": 0.069695,
     "end_time": "2022-09-13T18:00:46.451217",
     "exception": false,
     "start_time": "2022-09-13T18:00:46.381522",
     "status": "completed"
    },
    "tags": []
   },
   "outputs": [],
   "source": [
    "df_int = df.select_dtypes(include = ['float64','int64']).fillna((df.select_dtypes(include = ['float64', 'int64']).mean()))"
   ]
  },
  {
   "cell_type": "code",
   "execution_count": 8,
   "id": "bbf2c9f8",
   "metadata": {
    "execution": {
     "iopub.execute_input": "2022-09-13T18:00:46.490870Z",
     "iopub.status.busy": "2022-09-13T18:00:46.490403Z",
     "iopub.status.idle": "2022-09-13T18:00:46.508323Z",
     "shell.execute_reply": "2022-09-13T18:00:46.507245Z"
    },
    "papermill": {
     "duration": 0.040392,
     "end_time": "2022-09-13T18:00:46.510579",
     "exception": false,
     "start_time": "2022-09-13T18:00:46.470187",
     "status": "completed"
    },
    "tags": []
   },
   "outputs": [
    {
     "data": {
      "text/html": [
       "<div>\n",
       "<style scoped>\n",
       "    .dataframe tbody tr th:only-of-type {\n",
       "        vertical-align: middle;\n",
       "    }\n",
       "\n",
       "    .dataframe tbody tr th {\n",
       "        vertical-align: top;\n",
       "    }\n",
       "\n",
       "    .dataframe thead th {\n",
       "        text-align: right;\n",
       "    }\n",
       "</style>\n",
       "<table border=\"1\" class=\"dataframe\">\n",
       "  <thead>\n",
       "    <tr style=\"text-align: right;\">\n",
       "      <th></th>\n",
       "      <th>ID</th>\n",
       "      <th>year</th>\n",
       "      <th>loan_amount</th>\n",
       "      <th>rate_of_interest</th>\n",
       "      <th>Interest_rate_spread</th>\n",
       "      <th>Upfront_charges</th>\n",
       "      <th>term</th>\n",
       "      <th>property_value</th>\n",
       "      <th>income</th>\n",
       "      <th>Credit_Score</th>\n",
       "      <th>LTV</th>\n",
       "      <th>Status</th>\n",
       "      <th>dtir1</th>\n",
       "    </tr>\n",
       "  </thead>\n",
       "  <tbody>\n",
       "    <tr>\n",
       "      <th>0</th>\n",
       "      <td>24890</td>\n",
       "      <td>2019</td>\n",
       "      <td>116500</td>\n",
       "      <td>4.045476</td>\n",
       "      <td>0.441656</td>\n",
       "      <td>3224.996127</td>\n",
       "      <td>360.0</td>\n",
       "      <td>118000.000000</td>\n",
       "      <td>1740.0</td>\n",
       "      <td>758</td>\n",
       "      <td>98.728814</td>\n",
       "      <td>1</td>\n",
       "      <td>45.000000</td>\n",
       "    </tr>\n",
       "    <tr>\n",
       "      <th>1</th>\n",
       "      <td>24891</td>\n",
       "      <td>2019</td>\n",
       "      <td>206500</td>\n",
       "      <td>4.045476</td>\n",
       "      <td>0.441656</td>\n",
       "      <td>3224.996127</td>\n",
       "      <td>360.0</td>\n",
       "      <td>497893.465696</td>\n",
       "      <td>4980.0</td>\n",
       "      <td>552</td>\n",
       "      <td>72.746457</td>\n",
       "      <td>1</td>\n",
       "      <td>37.732932</td>\n",
       "    </tr>\n",
       "    <tr>\n",
       "      <th>2</th>\n",
       "      <td>24892</td>\n",
       "      <td>2019</td>\n",
       "      <td>406500</td>\n",
       "      <td>4.560000</td>\n",
       "      <td>0.200000</td>\n",
       "      <td>595.000000</td>\n",
       "      <td>360.0</td>\n",
       "      <td>508000.000000</td>\n",
       "      <td>9480.0</td>\n",
       "      <td>834</td>\n",
       "      <td>80.019685</td>\n",
       "      <td>0</td>\n",
       "      <td>46.000000</td>\n",
       "    </tr>\n",
       "    <tr>\n",
       "      <th>3</th>\n",
       "      <td>24893</td>\n",
       "      <td>2019</td>\n",
       "      <td>456500</td>\n",
       "      <td>4.250000</td>\n",
       "      <td>0.681000</td>\n",
       "      <td>3224.996127</td>\n",
       "      <td>360.0</td>\n",
       "      <td>658000.000000</td>\n",
       "      <td>11880.0</td>\n",
       "      <td>587</td>\n",
       "      <td>69.376900</td>\n",
       "      <td>0</td>\n",
       "      <td>42.000000</td>\n",
       "    </tr>\n",
       "    <tr>\n",
       "      <th>4</th>\n",
       "      <td>24894</td>\n",
       "      <td>2019</td>\n",
       "      <td>696500</td>\n",
       "      <td>4.000000</td>\n",
       "      <td>0.304200</td>\n",
       "      <td>0.000000</td>\n",
       "      <td>360.0</td>\n",
       "      <td>758000.000000</td>\n",
       "      <td>10440.0</td>\n",
       "      <td>602</td>\n",
       "      <td>91.886544</td>\n",
       "      <td>0</td>\n",
       "      <td>39.000000</td>\n",
       "    </tr>\n",
       "  </tbody>\n",
       "</table>\n",
       "</div>"
      ],
      "text/plain": [
       "      ID  year  loan_amount  rate_of_interest  Interest_rate_spread  \\\n",
       "0  24890  2019       116500          4.045476              0.441656   \n",
       "1  24891  2019       206500          4.045476              0.441656   \n",
       "2  24892  2019       406500          4.560000              0.200000   \n",
       "3  24893  2019       456500          4.250000              0.681000   \n",
       "4  24894  2019       696500          4.000000              0.304200   \n",
       "\n",
       "   Upfront_charges   term  property_value   income  Credit_Score        LTV  \\\n",
       "0      3224.996127  360.0   118000.000000   1740.0           758  98.728814   \n",
       "1      3224.996127  360.0   497893.465696   4980.0           552  72.746457   \n",
       "2       595.000000  360.0   508000.000000   9480.0           834  80.019685   \n",
       "3      3224.996127  360.0   658000.000000  11880.0           587  69.376900   \n",
       "4         0.000000  360.0   758000.000000  10440.0           602  91.886544   \n",
       "\n",
       "   Status      dtir1  \n",
       "0       1  45.000000  \n",
       "1       1  37.732932  \n",
       "2       0  46.000000  \n",
       "3       0  42.000000  \n",
       "4       0  39.000000  "
      ]
     },
     "execution_count": 8,
     "metadata": {},
     "output_type": "execute_result"
    }
   ],
   "source": [
    "df_int.head()"
   ]
  },
  {
   "cell_type": "code",
   "execution_count": 9,
   "id": "2f06bf03",
   "metadata": {
    "execution": {
     "iopub.execute_input": "2022-09-13T18:00:46.551805Z",
     "iopub.status.busy": "2022-09-13T18:00:46.550854Z",
     "iopub.status.idle": "2022-09-13T18:00:46.609828Z",
     "shell.execute_reply": "2022-09-13T18:00:46.608799Z"
    },
    "papermill": {
     "duration": 0.081952,
     "end_time": "2022-09-13T18:00:46.612461",
     "exception": false,
     "start_time": "2022-09-13T18:00:46.530509",
     "status": "completed"
    },
    "tags": []
   },
   "outputs": [],
   "source": [
    "#dropping the missing values columns of datatype = int and float \n",
    "\n",
    "to_be_dropped=pd.DataFrame(df.select_dtypes(include = ['float64','int64'])).columns\n",
    "\n",
    "df= df.drop(to_be_dropped,axis=1)"
   ]
  },
  {
   "cell_type": "code",
   "execution_count": 10,
   "id": "202d0fda",
   "metadata": {
    "execution": {
     "iopub.execute_input": "2022-09-13T18:00:46.652357Z",
     "iopub.status.busy": "2022-09-13T18:00:46.651967Z",
     "iopub.status.idle": "2022-09-13T18:00:46.685941Z",
     "shell.execute_reply": "2022-09-13T18:00:46.684984Z"
    },
    "papermill": {
     "duration": 0.057067,
     "end_time": "2022-09-13T18:00:46.688578",
     "exception": false,
     "start_time": "2022-09-13T18:00:46.631511",
     "status": "completed"
    },
    "tags": []
   },
   "outputs": [],
   "source": [
    "# here we have merged the old df data with new df_int data as we got the without missing values in the df_int \n",
    "\n",
    "df = pd.concat([df, df_int], axis=1)"
   ]
  },
  {
   "cell_type": "code",
   "execution_count": 11,
   "id": "49f06b9b",
   "metadata": {
    "execution": {
     "iopub.execute_input": "2022-09-13T18:00:46.728338Z",
     "iopub.status.busy": "2022-09-13T18:00:46.727909Z",
     "iopub.status.idle": "2022-09-13T18:00:46.754766Z",
     "shell.execute_reply": "2022-09-13T18:00:46.753633Z"
    },
    "papermill": {
     "duration": 0.049673,
     "end_time": "2022-09-13T18:00:46.757261",
     "exception": false,
     "start_time": "2022-09-13T18:00:46.707588",
     "status": "completed"
    },
    "tags": []
   },
   "outputs": [
    {
     "data": {
      "text/html": [
       "<div>\n",
       "<style scoped>\n",
       "    .dataframe tbody tr th:only-of-type {\n",
       "        vertical-align: middle;\n",
       "    }\n",
       "\n",
       "    .dataframe tbody tr th {\n",
       "        vertical-align: top;\n",
       "    }\n",
       "\n",
       "    .dataframe thead th {\n",
       "        text-align: right;\n",
       "    }\n",
       "</style>\n",
       "<table border=\"1\" class=\"dataframe\">\n",
       "  <thead>\n",
       "    <tr style=\"text-align: right;\">\n",
       "      <th></th>\n",
       "      <th>loan_limit</th>\n",
       "      <th>Gender</th>\n",
       "      <th>approv_in_adv</th>\n",
       "      <th>loan_type</th>\n",
       "      <th>loan_purpose</th>\n",
       "      <th>Credit_Worthiness</th>\n",
       "      <th>open_credit</th>\n",
       "      <th>business_or_commercial</th>\n",
       "      <th>Neg_ammortization</th>\n",
       "      <th>interest_only</th>\n",
       "      <th>...</th>\n",
       "      <th>rate_of_interest</th>\n",
       "      <th>Interest_rate_spread</th>\n",
       "      <th>Upfront_charges</th>\n",
       "      <th>term</th>\n",
       "      <th>property_value</th>\n",
       "      <th>income</th>\n",
       "      <th>Credit_Score</th>\n",
       "      <th>LTV</th>\n",
       "      <th>Status</th>\n",
       "      <th>dtir1</th>\n",
       "    </tr>\n",
       "  </thead>\n",
       "  <tbody>\n",
       "    <tr>\n",
       "      <th>0</th>\n",
       "      <td>cf</td>\n",
       "      <td>Sex Not Available</td>\n",
       "      <td>nopre</td>\n",
       "      <td>type1</td>\n",
       "      <td>p1</td>\n",
       "      <td>l1</td>\n",
       "      <td>nopc</td>\n",
       "      <td>nob/c</td>\n",
       "      <td>not_neg</td>\n",
       "      <td>not_int</td>\n",
       "      <td>...</td>\n",
       "      <td>4.045476</td>\n",
       "      <td>0.441656</td>\n",
       "      <td>3224.996127</td>\n",
       "      <td>360.0</td>\n",
       "      <td>118000.000000</td>\n",
       "      <td>1740.0</td>\n",
       "      <td>758</td>\n",
       "      <td>98.728814</td>\n",
       "      <td>1</td>\n",
       "      <td>45.000000</td>\n",
       "    </tr>\n",
       "    <tr>\n",
       "      <th>1</th>\n",
       "      <td>cf</td>\n",
       "      <td>Male</td>\n",
       "      <td>nopre</td>\n",
       "      <td>type2</td>\n",
       "      <td>p1</td>\n",
       "      <td>l1</td>\n",
       "      <td>nopc</td>\n",
       "      <td>b/c</td>\n",
       "      <td>not_neg</td>\n",
       "      <td>not_int</td>\n",
       "      <td>...</td>\n",
       "      <td>4.045476</td>\n",
       "      <td>0.441656</td>\n",
       "      <td>3224.996127</td>\n",
       "      <td>360.0</td>\n",
       "      <td>497893.465696</td>\n",
       "      <td>4980.0</td>\n",
       "      <td>552</td>\n",
       "      <td>72.746457</td>\n",
       "      <td>1</td>\n",
       "      <td>37.732932</td>\n",
       "    </tr>\n",
       "    <tr>\n",
       "      <th>2</th>\n",
       "      <td>cf</td>\n",
       "      <td>Male</td>\n",
       "      <td>pre</td>\n",
       "      <td>type1</td>\n",
       "      <td>p1</td>\n",
       "      <td>l1</td>\n",
       "      <td>nopc</td>\n",
       "      <td>nob/c</td>\n",
       "      <td>neg_amm</td>\n",
       "      <td>not_int</td>\n",
       "      <td>...</td>\n",
       "      <td>4.560000</td>\n",
       "      <td>0.200000</td>\n",
       "      <td>595.000000</td>\n",
       "      <td>360.0</td>\n",
       "      <td>508000.000000</td>\n",
       "      <td>9480.0</td>\n",
       "      <td>834</td>\n",
       "      <td>80.019685</td>\n",
       "      <td>0</td>\n",
       "      <td>46.000000</td>\n",
       "    </tr>\n",
       "    <tr>\n",
       "      <th>3</th>\n",
       "      <td>cf</td>\n",
       "      <td>Male</td>\n",
       "      <td>nopre</td>\n",
       "      <td>type1</td>\n",
       "      <td>p4</td>\n",
       "      <td>l1</td>\n",
       "      <td>nopc</td>\n",
       "      <td>nob/c</td>\n",
       "      <td>not_neg</td>\n",
       "      <td>not_int</td>\n",
       "      <td>...</td>\n",
       "      <td>4.250000</td>\n",
       "      <td>0.681000</td>\n",
       "      <td>3224.996127</td>\n",
       "      <td>360.0</td>\n",
       "      <td>658000.000000</td>\n",
       "      <td>11880.0</td>\n",
       "      <td>587</td>\n",
       "      <td>69.376900</td>\n",
       "      <td>0</td>\n",
       "      <td>42.000000</td>\n",
       "    </tr>\n",
       "    <tr>\n",
       "      <th>4</th>\n",
       "      <td>cf</td>\n",
       "      <td>Joint</td>\n",
       "      <td>pre</td>\n",
       "      <td>type1</td>\n",
       "      <td>p1</td>\n",
       "      <td>l1</td>\n",
       "      <td>nopc</td>\n",
       "      <td>nob/c</td>\n",
       "      <td>not_neg</td>\n",
       "      <td>not_int</td>\n",
       "      <td>...</td>\n",
       "      <td>4.000000</td>\n",
       "      <td>0.304200</td>\n",
       "      <td>0.000000</td>\n",
       "      <td>360.0</td>\n",
       "      <td>758000.000000</td>\n",
       "      <td>10440.0</td>\n",
       "      <td>602</td>\n",
       "      <td>91.886544</td>\n",
       "      <td>0</td>\n",
       "      <td>39.000000</td>\n",
       "    </tr>\n",
       "  </tbody>\n",
       "</table>\n",
       "<p>5 rows × 34 columns</p>\n",
       "</div>"
      ],
      "text/plain": [
       "  loan_limit             Gender approv_in_adv loan_type loan_purpose  \\\n",
       "0         cf  Sex Not Available         nopre     type1           p1   \n",
       "1         cf               Male         nopre     type2           p1   \n",
       "2         cf               Male           pre     type1           p1   \n",
       "3         cf               Male         nopre     type1           p4   \n",
       "4         cf              Joint           pre     type1           p1   \n",
       "\n",
       "  Credit_Worthiness open_credit business_or_commercial Neg_ammortization  \\\n",
       "0                l1        nopc                  nob/c           not_neg   \n",
       "1                l1        nopc                    b/c           not_neg   \n",
       "2                l1        nopc                  nob/c           neg_amm   \n",
       "3                l1        nopc                  nob/c           not_neg   \n",
       "4                l1        nopc                  nob/c           not_neg   \n",
       "\n",
       "  interest_only  ... rate_of_interest Interest_rate_spread Upfront_charges  \\\n",
       "0       not_int  ...         4.045476             0.441656     3224.996127   \n",
       "1       not_int  ...         4.045476             0.441656     3224.996127   \n",
       "2       not_int  ...         4.560000             0.200000      595.000000   \n",
       "3       not_int  ...         4.250000             0.681000     3224.996127   \n",
       "4       not_int  ...         4.000000             0.304200        0.000000   \n",
       "\n",
       "    term property_value   income Credit_Score        LTV Status      dtir1  \n",
       "0  360.0  118000.000000   1740.0          758  98.728814      1  45.000000  \n",
       "1  360.0  497893.465696   4980.0          552  72.746457      1  37.732932  \n",
       "2  360.0  508000.000000   9480.0          834  80.019685      0  46.000000  \n",
       "3  360.0  658000.000000  11880.0          587  69.376900      0  42.000000  \n",
       "4  360.0  758000.000000  10440.0          602  91.886544      0  39.000000  \n",
       "\n",
       "[5 rows x 34 columns]"
      ]
     },
     "execution_count": 11,
     "metadata": {},
     "output_type": "execute_result"
    }
   ],
   "source": [
    "df.head()"
   ]
  },
  {
   "cell_type": "markdown",
   "id": "81fefb76",
   "metadata": {
    "papermill": {
     "duration": 0.018941,
     "end_time": "2022-09-13T18:00:46.795691",
     "exception": false,
     "start_time": "2022-09-13T18:00:46.776750",
     "status": "completed"
    },
    "tags": []
   },
   "source": [
    "### 2. Dealing with the missing values columns of ( datatype = Object ) by imputing with Mode"
   ]
  },
  {
   "cell_type": "code",
   "execution_count": 12,
   "id": "b220b3bb",
   "metadata": {
    "execution": {
     "iopub.execute_input": "2022-09-13T18:00:46.836381Z",
     "iopub.status.busy": "2022-09-13T18:00:46.835961Z",
     "iopub.status.idle": "2022-09-13T18:00:47.410318Z",
     "shell.execute_reply": "2022-09-13T18:00:47.409350Z"
    },
    "papermill": {
     "duration": 0.597862,
     "end_time": "2022-09-13T18:00:47.413011",
     "exception": false,
     "start_time": "2022-09-13T18:00:46.815149",
     "status": "completed"
    },
    "tags": []
   },
   "outputs": [],
   "source": [
    "df_obj = df.select_dtypes(include = ['object']).fillna((df.select_dtypes(include = ['object']).mode()))"
   ]
  },
  {
   "cell_type": "code",
   "execution_count": 13,
   "id": "a6c58367",
   "metadata": {
    "execution": {
     "iopub.execute_input": "2022-09-13T18:00:47.455178Z",
     "iopub.status.busy": "2022-09-13T18:00:47.454697Z",
     "iopub.status.idle": "2022-09-13T18:00:47.649898Z",
     "shell.execute_reply": "2022-09-13T18:00:47.648425Z"
    },
    "papermill": {
     "duration": 0.219841,
     "end_time": "2022-09-13T18:00:47.652493",
     "exception": false,
     "start_time": "2022-09-13T18:00:47.432652",
     "status": "completed"
    },
    "tags": []
   },
   "outputs": [
    {
     "data": {
      "text/plain": [
       "loan_limit                   3344\n",
       "Gender                          0\n",
       "approv_in_adv                 908\n",
       "loan_type                       0\n",
       "loan_purpose                  134\n",
       "Credit_Worthiness               0\n",
       "open_credit                     0\n",
       "business_or_commercial          0\n",
       "Neg_ammortization             121\n",
       "interest_only                   0\n",
       "lump_sum_payment                0\n",
       "construction_type               0\n",
       "occupancy_type                  0\n",
       "Secured_by                      0\n",
       "total_units                     0\n",
       "credit_type                     0\n",
       "co_applicant_credit_type        0\n",
       "age                           200\n",
       "submission_of_application     200\n",
       "Region                          0\n",
       "Security_Type                   0\n",
       "dtype: int64"
      ]
     },
     "execution_count": 13,
     "metadata": {},
     "output_type": "execute_result"
    }
   ],
   "source": [
    "df_obj.isnull().sum()"
   ]
  },
  {
   "cell_type": "code",
   "execution_count": 14,
   "id": "a04fb50c",
   "metadata": {
    "execution": {
     "iopub.execute_input": "2022-09-13T18:00:47.695492Z",
     "iopub.status.busy": "2022-09-13T18:00:47.693239Z",
     "iopub.status.idle": "2022-09-13T18:00:47.718635Z",
     "shell.execute_reply": "2022-09-13T18:00:47.717498Z"
    },
    "papermill": {
     "duration": 0.048447,
     "end_time": "2022-09-13T18:00:47.721223",
     "exception": false,
     "start_time": "2022-09-13T18:00:47.672776",
     "status": "completed"
    },
    "tags": []
   },
   "outputs": [
    {
     "data": {
      "text/html": [
       "<div>\n",
       "<style scoped>\n",
       "    .dataframe tbody tr th:only-of-type {\n",
       "        vertical-align: middle;\n",
       "    }\n",
       "\n",
       "    .dataframe tbody tr th {\n",
       "        vertical-align: top;\n",
       "    }\n",
       "\n",
       "    .dataframe thead th {\n",
       "        text-align: right;\n",
       "    }\n",
       "</style>\n",
       "<table border=\"1\" class=\"dataframe\">\n",
       "  <thead>\n",
       "    <tr style=\"text-align: right;\">\n",
       "      <th></th>\n",
       "      <th>loan_limit</th>\n",
       "      <th>Gender</th>\n",
       "      <th>approv_in_adv</th>\n",
       "      <th>loan_type</th>\n",
       "      <th>loan_purpose</th>\n",
       "      <th>Credit_Worthiness</th>\n",
       "      <th>open_credit</th>\n",
       "      <th>business_or_commercial</th>\n",
       "      <th>Neg_ammortization</th>\n",
       "      <th>interest_only</th>\n",
       "      <th>...</th>\n",
       "      <th>construction_type</th>\n",
       "      <th>occupancy_type</th>\n",
       "      <th>Secured_by</th>\n",
       "      <th>total_units</th>\n",
       "      <th>credit_type</th>\n",
       "      <th>co_applicant_credit_type</th>\n",
       "      <th>age</th>\n",
       "      <th>submission_of_application</th>\n",
       "      <th>Region</th>\n",
       "      <th>Security_Type</th>\n",
       "    </tr>\n",
       "  </thead>\n",
       "  <tbody>\n",
       "    <tr>\n",
       "      <th>0</th>\n",
       "      <td>cf</td>\n",
       "      <td>Sex Not Available</td>\n",
       "      <td>nopre</td>\n",
       "      <td>type1</td>\n",
       "      <td>p1</td>\n",
       "      <td>l1</td>\n",
       "      <td>nopc</td>\n",
       "      <td>nob/c</td>\n",
       "      <td>not_neg</td>\n",
       "      <td>not_int</td>\n",
       "      <td>...</td>\n",
       "      <td>sb</td>\n",
       "      <td>pr</td>\n",
       "      <td>home</td>\n",
       "      <td>1U</td>\n",
       "      <td>EXP</td>\n",
       "      <td>CIB</td>\n",
       "      <td>25-34</td>\n",
       "      <td>to_inst</td>\n",
       "      <td>south</td>\n",
       "      <td>direct</td>\n",
       "    </tr>\n",
       "    <tr>\n",
       "      <th>1</th>\n",
       "      <td>cf</td>\n",
       "      <td>Male</td>\n",
       "      <td>nopre</td>\n",
       "      <td>type2</td>\n",
       "      <td>p1</td>\n",
       "      <td>l1</td>\n",
       "      <td>nopc</td>\n",
       "      <td>b/c</td>\n",
       "      <td>not_neg</td>\n",
       "      <td>not_int</td>\n",
       "      <td>...</td>\n",
       "      <td>sb</td>\n",
       "      <td>pr</td>\n",
       "      <td>home</td>\n",
       "      <td>1U</td>\n",
       "      <td>EQUI</td>\n",
       "      <td>EXP</td>\n",
       "      <td>55-64</td>\n",
       "      <td>to_inst</td>\n",
       "      <td>North</td>\n",
       "      <td>direct</td>\n",
       "    </tr>\n",
       "    <tr>\n",
       "      <th>2</th>\n",
       "      <td>cf</td>\n",
       "      <td>Male</td>\n",
       "      <td>pre</td>\n",
       "      <td>type1</td>\n",
       "      <td>p1</td>\n",
       "      <td>l1</td>\n",
       "      <td>nopc</td>\n",
       "      <td>nob/c</td>\n",
       "      <td>neg_amm</td>\n",
       "      <td>not_int</td>\n",
       "      <td>...</td>\n",
       "      <td>sb</td>\n",
       "      <td>pr</td>\n",
       "      <td>home</td>\n",
       "      <td>1U</td>\n",
       "      <td>EXP</td>\n",
       "      <td>CIB</td>\n",
       "      <td>35-44</td>\n",
       "      <td>to_inst</td>\n",
       "      <td>south</td>\n",
       "      <td>direct</td>\n",
       "    </tr>\n",
       "    <tr>\n",
       "      <th>3</th>\n",
       "      <td>cf</td>\n",
       "      <td>Male</td>\n",
       "      <td>nopre</td>\n",
       "      <td>type1</td>\n",
       "      <td>p4</td>\n",
       "      <td>l1</td>\n",
       "      <td>nopc</td>\n",
       "      <td>nob/c</td>\n",
       "      <td>not_neg</td>\n",
       "      <td>not_int</td>\n",
       "      <td>...</td>\n",
       "      <td>sb</td>\n",
       "      <td>pr</td>\n",
       "      <td>home</td>\n",
       "      <td>1U</td>\n",
       "      <td>EXP</td>\n",
       "      <td>CIB</td>\n",
       "      <td>45-54</td>\n",
       "      <td>not_inst</td>\n",
       "      <td>North</td>\n",
       "      <td>direct</td>\n",
       "    </tr>\n",
       "    <tr>\n",
       "      <th>4</th>\n",
       "      <td>cf</td>\n",
       "      <td>Joint</td>\n",
       "      <td>pre</td>\n",
       "      <td>type1</td>\n",
       "      <td>p1</td>\n",
       "      <td>l1</td>\n",
       "      <td>nopc</td>\n",
       "      <td>nob/c</td>\n",
       "      <td>not_neg</td>\n",
       "      <td>not_int</td>\n",
       "      <td>...</td>\n",
       "      <td>sb</td>\n",
       "      <td>pr</td>\n",
       "      <td>home</td>\n",
       "      <td>1U</td>\n",
       "      <td>CRIF</td>\n",
       "      <td>EXP</td>\n",
       "      <td>25-34</td>\n",
       "      <td>not_inst</td>\n",
       "      <td>North</td>\n",
       "      <td>direct</td>\n",
       "    </tr>\n",
       "  </tbody>\n",
       "</table>\n",
       "<p>5 rows × 21 columns</p>\n",
       "</div>"
      ],
      "text/plain": [
       "  loan_limit             Gender approv_in_adv loan_type loan_purpose  \\\n",
       "0         cf  Sex Not Available         nopre     type1           p1   \n",
       "1         cf               Male         nopre     type2           p1   \n",
       "2         cf               Male           pre     type1           p1   \n",
       "3         cf               Male         nopre     type1           p4   \n",
       "4         cf              Joint           pre     type1           p1   \n",
       "\n",
       "  Credit_Worthiness open_credit business_or_commercial Neg_ammortization  \\\n",
       "0                l1        nopc                  nob/c           not_neg   \n",
       "1                l1        nopc                    b/c           not_neg   \n",
       "2                l1        nopc                  nob/c           neg_amm   \n",
       "3                l1        nopc                  nob/c           not_neg   \n",
       "4                l1        nopc                  nob/c           not_neg   \n",
       "\n",
       "  interest_only  ... construction_type occupancy_type Secured_by total_units  \\\n",
       "0       not_int  ...                sb             pr       home          1U   \n",
       "1       not_int  ...                sb             pr       home          1U   \n",
       "2       not_int  ...                sb             pr       home          1U   \n",
       "3       not_int  ...                sb             pr       home          1U   \n",
       "4       not_int  ...                sb             pr       home          1U   \n",
       "\n",
       "  credit_type co_applicant_credit_type    age submission_of_application  \\\n",
       "0         EXP                      CIB  25-34                   to_inst   \n",
       "1        EQUI                      EXP  55-64                   to_inst   \n",
       "2         EXP                      CIB  35-44                   to_inst   \n",
       "3         EXP                      CIB  45-54                  not_inst   \n",
       "4        CRIF                      EXP  25-34                  not_inst   \n",
       "\n",
       "  Region Security_Type  \n",
       "0  south        direct  \n",
       "1  North        direct  \n",
       "2  south        direct  \n",
       "3  North        direct  \n",
       "4  North        direct  \n",
       "\n",
       "[5 rows x 21 columns]"
      ]
     },
     "execution_count": 14,
     "metadata": {},
     "output_type": "execute_result"
    }
   ],
   "source": [
    "df_obj.head()"
   ]
  },
  {
   "cell_type": "code",
   "execution_count": 15,
   "id": "574ae02e",
   "metadata": {
    "execution": {
     "iopub.execute_input": "2022-09-13T18:00:47.763510Z",
     "iopub.status.busy": "2022-09-13T18:00:47.762496Z",
     "iopub.status.idle": "2022-09-13T18:00:47.808046Z",
     "shell.execute_reply": "2022-09-13T18:00:47.807003Z"
    },
    "papermill": {
     "duration": 0.069418,
     "end_time": "2022-09-13T18:00:47.810681",
     "exception": false,
     "start_time": "2022-09-13T18:00:47.741263",
     "status": "completed"
    },
    "tags": []
   },
   "outputs": [],
   "source": [
    "#dropping the missing values columns of datatype = object\n",
    "\n",
    "to_be_dropped=pd.DataFrame(df.select_dtypes(include = ['object'])).columns\n",
    "\n",
    "df= df.drop(to_be_dropped,axis=1)"
   ]
  },
  {
   "cell_type": "code",
   "execution_count": 16,
   "id": "baed91d4",
   "metadata": {
    "execution": {
     "iopub.execute_input": "2022-09-13T18:00:47.851782Z",
     "iopub.status.busy": "2022-09-13T18:00:47.851351Z",
     "iopub.status.idle": "2022-09-13T18:00:47.907462Z",
     "shell.execute_reply": "2022-09-13T18:00:47.906084Z"
    },
    "papermill": {
     "duration": 0.079727,
     "end_time": "2022-09-13T18:00:47.910215",
     "exception": false,
     "start_time": "2022-09-13T18:00:47.830488",
     "status": "completed"
    },
    "tags": []
   },
   "outputs": [],
   "source": [
    "# here we have merged the old df data with new df_obj data as we got the without missing values in the df_obj\n",
    "\n",
    "df = pd.concat([df, df_obj], axis=1)"
   ]
  },
  {
   "cell_type": "code",
   "execution_count": 17,
   "id": "0dcddb04",
   "metadata": {
    "execution": {
     "iopub.execute_input": "2022-09-13T18:00:47.951490Z",
     "iopub.status.busy": "2022-09-13T18:00:47.951105Z",
     "iopub.status.idle": "2022-09-13T18:00:47.976144Z",
     "shell.execute_reply": "2022-09-13T18:00:47.974793Z"
    },
    "papermill": {
     "duration": 0.048647,
     "end_time": "2022-09-13T18:00:47.978676",
     "exception": false,
     "start_time": "2022-09-13T18:00:47.930029",
     "status": "completed"
    },
    "tags": []
   },
   "outputs": [
    {
     "data": {
      "text/html": [
       "<div>\n",
       "<style scoped>\n",
       "    .dataframe tbody tr th:only-of-type {\n",
       "        vertical-align: middle;\n",
       "    }\n",
       "\n",
       "    .dataframe tbody tr th {\n",
       "        vertical-align: top;\n",
       "    }\n",
       "\n",
       "    .dataframe thead th {\n",
       "        text-align: right;\n",
       "    }\n",
       "</style>\n",
       "<table border=\"1\" class=\"dataframe\">\n",
       "  <thead>\n",
       "    <tr style=\"text-align: right;\">\n",
       "      <th></th>\n",
       "      <th>ID</th>\n",
       "      <th>year</th>\n",
       "      <th>loan_amount</th>\n",
       "      <th>rate_of_interest</th>\n",
       "      <th>Interest_rate_spread</th>\n",
       "      <th>Upfront_charges</th>\n",
       "      <th>term</th>\n",
       "      <th>property_value</th>\n",
       "      <th>income</th>\n",
       "      <th>Credit_Score</th>\n",
       "      <th>...</th>\n",
       "      <th>construction_type</th>\n",
       "      <th>occupancy_type</th>\n",
       "      <th>Secured_by</th>\n",
       "      <th>total_units</th>\n",
       "      <th>credit_type</th>\n",
       "      <th>co_applicant_credit_type</th>\n",
       "      <th>age</th>\n",
       "      <th>submission_of_application</th>\n",
       "      <th>Region</th>\n",
       "      <th>Security_Type</th>\n",
       "    </tr>\n",
       "  </thead>\n",
       "  <tbody>\n",
       "    <tr>\n",
       "      <th>0</th>\n",
       "      <td>24890</td>\n",
       "      <td>2019</td>\n",
       "      <td>116500</td>\n",
       "      <td>4.045476</td>\n",
       "      <td>0.441656</td>\n",
       "      <td>3224.996127</td>\n",
       "      <td>360.0</td>\n",
       "      <td>118000.000000</td>\n",
       "      <td>1740.0</td>\n",
       "      <td>758</td>\n",
       "      <td>...</td>\n",
       "      <td>sb</td>\n",
       "      <td>pr</td>\n",
       "      <td>home</td>\n",
       "      <td>1U</td>\n",
       "      <td>EXP</td>\n",
       "      <td>CIB</td>\n",
       "      <td>25-34</td>\n",
       "      <td>to_inst</td>\n",
       "      <td>south</td>\n",
       "      <td>direct</td>\n",
       "    </tr>\n",
       "    <tr>\n",
       "      <th>1</th>\n",
       "      <td>24891</td>\n",
       "      <td>2019</td>\n",
       "      <td>206500</td>\n",
       "      <td>4.045476</td>\n",
       "      <td>0.441656</td>\n",
       "      <td>3224.996127</td>\n",
       "      <td>360.0</td>\n",
       "      <td>497893.465696</td>\n",
       "      <td>4980.0</td>\n",
       "      <td>552</td>\n",
       "      <td>...</td>\n",
       "      <td>sb</td>\n",
       "      <td>pr</td>\n",
       "      <td>home</td>\n",
       "      <td>1U</td>\n",
       "      <td>EQUI</td>\n",
       "      <td>EXP</td>\n",
       "      <td>55-64</td>\n",
       "      <td>to_inst</td>\n",
       "      <td>North</td>\n",
       "      <td>direct</td>\n",
       "    </tr>\n",
       "    <tr>\n",
       "      <th>2</th>\n",
       "      <td>24892</td>\n",
       "      <td>2019</td>\n",
       "      <td>406500</td>\n",
       "      <td>4.560000</td>\n",
       "      <td>0.200000</td>\n",
       "      <td>595.000000</td>\n",
       "      <td>360.0</td>\n",
       "      <td>508000.000000</td>\n",
       "      <td>9480.0</td>\n",
       "      <td>834</td>\n",
       "      <td>...</td>\n",
       "      <td>sb</td>\n",
       "      <td>pr</td>\n",
       "      <td>home</td>\n",
       "      <td>1U</td>\n",
       "      <td>EXP</td>\n",
       "      <td>CIB</td>\n",
       "      <td>35-44</td>\n",
       "      <td>to_inst</td>\n",
       "      <td>south</td>\n",
       "      <td>direct</td>\n",
       "    </tr>\n",
       "    <tr>\n",
       "      <th>3</th>\n",
       "      <td>24893</td>\n",
       "      <td>2019</td>\n",
       "      <td>456500</td>\n",
       "      <td>4.250000</td>\n",
       "      <td>0.681000</td>\n",
       "      <td>3224.996127</td>\n",
       "      <td>360.0</td>\n",
       "      <td>658000.000000</td>\n",
       "      <td>11880.0</td>\n",
       "      <td>587</td>\n",
       "      <td>...</td>\n",
       "      <td>sb</td>\n",
       "      <td>pr</td>\n",
       "      <td>home</td>\n",
       "      <td>1U</td>\n",
       "      <td>EXP</td>\n",
       "      <td>CIB</td>\n",
       "      <td>45-54</td>\n",
       "      <td>not_inst</td>\n",
       "      <td>North</td>\n",
       "      <td>direct</td>\n",
       "    </tr>\n",
       "    <tr>\n",
       "      <th>4</th>\n",
       "      <td>24894</td>\n",
       "      <td>2019</td>\n",
       "      <td>696500</td>\n",
       "      <td>4.000000</td>\n",
       "      <td>0.304200</td>\n",
       "      <td>0.000000</td>\n",
       "      <td>360.0</td>\n",
       "      <td>758000.000000</td>\n",
       "      <td>10440.0</td>\n",
       "      <td>602</td>\n",
       "      <td>...</td>\n",
       "      <td>sb</td>\n",
       "      <td>pr</td>\n",
       "      <td>home</td>\n",
       "      <td>1U</td>\n",
       "      <td>CRIF</td>\n",
       "      <td>EXP</td>\n",
       "      <td>25-34</td>\n",
       "      <td>not_inst</td>\n",
       "      <td>North</td>\n",
       "      <td>direct</td>\n",
       "    </tr>\n",
       "  </tbody>\n",
       "</table>\n",
       "<p>5 rows × 34 columns</p>\n",
       "</div>"
      ],
      "text/plain": [
       "      ID  year  loan_amount  rate_of_interest  Interest_rate_spread  \\\n",
       "0  24890  2019       116500          4.045476              0.441656   \n",
       "1  24891  2019       206500          4.045476              0.441656   \n",
       "2  24892  2019       406500          4.560000              0.200000   \n",
       "3  24893  2019       456500          4.250000              0.681000   \n",
       "4  24894  2019       696500          4.000000              0.304200   \n",
       "\n",
       "   Upfront_charges   term  property_value   income  Credit_Score  ...  \\\n",
       "0      3224.996127  360.0   118000.000000   1740.0           758  ...   \n",
       "1      3224.996127  360.0   497893.465696   4980.0           552  ...   \n",
       "2       595.000000  360.0   508000.000000   9480.0           834  ...   \n",
       "3      3224.996127  360.0   658000.000000  11880.0           587  ...   \n",
       "4         0.000000  360.0   758000.000000  10440.0           602  ...   \n",
       "\n",
       "   construction_type  occupancy_type  Secured_by total_units credit_type  \\\n",
       "0                 sb              pr        home          1U         EXP   \n",
       "1                 sb              pr        home          1U        EQUI   \n",
       "2                 sb              pr        home          1U         EXP   \n",
       "3                 sb              pr        home          1U         EXP   \n",
       "4                 sb              pr        home          1U        CRIF   \n",
       "\n",
       "  co_applicant_credit_type    age submission_of_application Region  \\\n",
       "0                      CIB  25-34                   to_inst  south   \n",
       "1                      EXP  55-64                   to_inst  North   \n",
       "2                      CIB  35-44                   to_inst  south   \n",
       "3                      CIB  45-54                  not_inst  North   \n",
       "4                      EXP  25-34                  not_inst  North   \n",
       "\n",
       "  Security_Type  \n",
       "0        direct  \n",
       "1        direct  \n",
       "2        direct  \n",
       "3        direct  \n",
       "4        direct  \n",
       "\n",
       "[5 rows x 34 columns]"
      ]
     },
     "execution_count": 17,
     "metadata": {},
     "output_type": "execute_result"
    }
   ],
   "source": [
    "df.head()"
   ]
  },
  {
   "cell_type": "markdown",
   "id": "7e2ec731",
   "metadata": {
    "papermill": {
     "duration": 0.019703,
     "end_time": "2022-09-13T18:00:48.018617",
     "exception": false,
     "start_time": "2022-09-13T18:00:47.998914",
     "status": "completed"
    },
    "tags": []
   },
   "source": [
    "# Checking the dataset is balanced or not. "
   ]
  },
  {
   "cell_type": "code",
   "execution_count": 18,
   "id": "74e104c6",
   "metadata": {
    "execution": {
     "iopub.execute_input": "2022-09-13T18:00:48.060655Z",
     "iopub.status.busy": "2022-09-13T18:00:48.060267Z",
     "iopub.status.idle": "2022-09-13T18:00:48.079102Z",
     "shell.execute_reply": "2022-09-13T18:00:48.078099Z"
    },
    "papermill": {
     "duration": 0.042551,
     "end_time": "2022-09-13T18:00:48.081294",
     "exception": false,
     "start_time": "2022-09-13T18:00:48.038743",
     "status": "completed"
    },
    "tags": []
   },
   "outputs": [
    {
     "data": {
      "text/plain": [
       "direct      0.999778\n",
       "Indriect    0.000222\n",
       "Name: Security_Type, dtype: float64"
      ]
     },
     "execution_count": 18,
     "metadata": {},
     "output_type": "execute_result"
    }
   ],
   "source": [
    "df['Security_Type'].value_counts(normalize = True)"
   ]
  },
  {
   "cell_type": "markdown",
   "id": "34c4b251",
   "metadata": {
    "papermill": {
     "duration": 0.019792,
     "end_time": "2022-09-13T18:00:48.121184",
     "exception": false,
     "start_time": "2022-09-13T18:00:48.101392",
     "status": "completed"
    },
    "tags": []
   },
   "source": [
    "***To handle the imbalanced data i used class_weight=\"balanced\" for the model***"
   ]
  },
  {
   "cell_type": "markdown",
   "id": "2b1eead0",
   "metadata": {
    "papermill": {
     "duration": 0.021626,
     "end_time": "2022-09-13T18:00:48.162987",
     "exception": false,
     "start_time": "2022-09-13T18:00:48.141361",
     "status": "completed"
    },
    "tags": []
   },
   "source": [
    "### Dropping the uniquely identifying features : ID, Year"
   ]
  },
  {
   "cell_type": "code",
   "execution_count": 19,
   "id": "bf5ab79d",
   "metadata": {
    "execution": {
     "iopub.execute_input": "2022-09-13T18:00:48.205489Z",
     "iopub.status.busy": "2022-09-13T18:00:48.204861Z",
     "iopub.status.idle": "2022-09-13T18:00:48.257545Z",
     "shell.execute_reply": "2022-09-13T18:00:48.256657Z"
    },
    "papermill": {
     "duration": 0.07703,
     "end_time": "2022-09-13T18:00:48.260252",
     "exception": false,
     "start_time": "2022-09-13T18:00:48.183222",
     "status": "completed"
    },
    "tags": []
   },
   "outputs": [],
   "source": [
    "df = df.drop(columns=['ID','year'])"
   ]
  },
  {
   "cell_type": "code",
   "execution_count": 20,
   "id": "25a0bd39",
   "metadata": {
    "execution": {
     "iopub.execute_input": "2022-09-13T18:00:48.303394Z",
     "iopub.status.busy": "2022-09-13T18:00:48.303008Z",
     "iopub.status.idle": "2022-09-13T18:00:48.320049Z",
     "shell.execute_reply": "2022-09-13T18:00:48.319222Z"
    },
    "papermill": {
     "duration": 0.041747,
     "end_time": "2022-09-13T18:00:48.322291",
     "exception": false,
     "start_time": "2022-09-13T18:00:48.280544",
     "status": "completed"
    },
    "tags": []
   },
   "outputs": [
    {
     "data": {
      "text/plain": [
       "nopc    148114\n",
       "opc        556\n",
       "Name: open_credit, dtype: int64"
      ]
     },
     "execution_count": 20,
     "metadata": {},
     "output_type": "execute_result"
    }
   ],
   "source": [
    "df['open_credit'].value_counts()\n",
    "# value_counts represents number of records as per each class"
   ]
  },
  {
   "cell_type": "code",
   "execution_count": 21,
   "id": "68dcf65d",
   "metadata": {
    "execution": {
     "iopub.execute_input": "2022-09-13T18:00:48.365725Z",
     "iopub.status.busy": "2022-09-13T18:00:48.364969Z",
     "iopub.status.idle": "2022-09-13T18:00:48.382543Z",
     "shell.execute_reply": "2022-09-13T18:00:48.381482Z"
    },
    "papermill": {
     "duration": 0.042023,
     "end_time": "2022-09-13T18:00:48.384902",
     "exception": false,
     "start_time": "2022-09-13T18:00:48.342879",
     "status": "completed"
    },
    "tags": []
   },
   "outputs": [
    {
     "data": {
      "text/plain": [
       "sb    148637\n",
       "mh        33\n",
       "Name: construction_type, dtype: int64"
      ]
     },
     "execution_count": 21,
     "metadata": {},
     "output_type": "execute_result"
    }
   ],
   "source": [
    "df['construction_type'].value_counts()"
   ]
  },
  {
   "cell_type": "code",
   "execution_count": 22,
   "id": "061996b6",
   "metadata": {
    "execution": {
     "iopub.execute_input": "2022-09-13T18:00:48.428048Z",
     "iopub.status.busy": "2022-09-13T18:00:48.427303Z",
     "iopub.status.idle": "2022-09-13T18:00:48.444184Z",
     "shell.execute_reply": "2022-09-13T18:00:48.443296Z"
    },
    "papermill": {
     "duration": 0.040872,
     "end_time": "2022-09-13T18:00:48.446378",
     "exception": false,
     "start_time": "2022-09-13T18:00:48.405506",
     "status": "completed"
    },
    "tags": []
   },
   "outputs": [
    {
     "data": {
      "text/plain": [
       "home    148637\n",
       "land        33\n",
       "Name: Secured_by, dtype: int64"
      ]
     },
     "execution_count": 22,
     "metadata": {},
     "output_type": "execute_result"
    }
   ],
   "source": [
    "df['Secured_by'].value_counts()"
   ]
  },
  {
   "cell_type": "code",
   "execution_count": 23,
   "id": "540d66d5",
   "metadata": {
    "execution": {
     "iopub.execute_input": "2022-09-13T18:00:48.490258Z",
     "iopub.status.busy": "2022-09-13T18:00:48.489522Z",
     "iopub.status.idle": "2022-09-13T18:00:48.506089Z",
     "shell.execute_reply": "2022-09-13T18:00:48.505248Z"
    },
    "papermill": {
     "duration": 0.041002,
     "end_time": "2022-09-13T18:00:48.508312",
     "exception": false,
     "start_time": "2022-09-13T18:00:48.467310",
     "status": "completed"
    },
    "tags": []
   },
   "outputs": [
    {
     "data": {
      "text/plain": [
       "direct      148637\n",
       "Indriect        33\n",
       "Name: Security_Type, dtype: int64"
      ]
     },
     "execution_count": 23,
     "metadata": {},
     "output_type": "execute_result"
    }
   ],
   "source": [
    "df['Security_Type'].value_counts()"
   ]
  },
  {
   "cell_type": "markdown",
   "id": "333d9784",
   "metadata": {
    "papermill": {
     "duration": 0.021363,
     "end_time": "2022-09-13T18:00:48.550531",
     "exception": false,
     "start_time": "2022-09-13T18:00:48.529168",
     "status": "completed"
    },
    "tags": []
   },
   "source": [
    "After checking every features value counts we get to know that 'open_credit','construction_type','Secured_by','Security_Type' are having only single major category so we have to drop all the records beloning to the minority class."
   ]
  },
  {
   "cell_type": "markdown",
   "id": "857c7686",
   "metadata": {
    "papermill": {
     "duration": 0.020332,
     "end_time": "2022-09-13T18:00:48.591452",
     "exception": false,
     "start_time": "2022-09-13T18:00:48.571120",
     "status": "completed"
    },
    "tags": []
   },
   "source": [
    "1. Delete or drop all the records belonging to the minority class  \n",
    "2. Drop the column"
   ]
  },
  {
   "cell_type": "code",
   "execution_count": 24,
   "id": "91f727a9",
   "metadata": {
    "execution": {
     "iopub.execute_input": "2022-09-13T18:00:48.634496Z",
     "iopub.status.busy": "2022-09-13T18:00:48.633821Z",
     "iopub.status.idle": "2022-09-13T18:00:48.716232Z",
     "shell.execute_reply": "2022-09-13T18:00:48.715155Z"
    },
    "papermill": {
     "duration": 0.107114,
     "end_time": "2022-09-13T18:00:48.719076",
     "exception": false,
     "start_time": "2022-09-13T18:00:48.611962",
     "status": "completed"
    },
    "tags": []
   },
   "outputs": [],
   "source": [
    "df.drop(df[df['Security_Type'] == \"Indriect\"].index, inplace = True,axis =0)"
   ]
  },
  {
   "cell_type": "code",
   "execution_count": 25,
   "id": "b8eabebc",
   "metadata": {
    "execution": {
     "iopub.execute_input": "2022-09-13T18:00:48.763252Z",
     "iopub.status.busy": "2022-09-13T18:00:48.762506Z",
     "iopub.status.idle": "2022-09-13T18:00:48.839554Z",
     "shell.execute_reply": "2022-09-13T18:00:48.838216Z"
    },
    "papermill": {
     "duration": 0.102497,
     "end_time": "2022-09-13T18:00:48.842463",
     "exception": false,
     "start_time": "2022-09-13T18:00:48.739966",
     "status": "completed"
    },
    "tags": []
   },
   "outputs": [],
   "source": [
    "df.drop(df[df['open_credit'] == \"opc\"].index, inplace = True,axis =0)"
   ]
  },
  {
   "cell_type": "code",
   "execution_count": 26,
   "id": "c4c0188e",
   "metadata": {
    "execution": {
     "iopub.execute_input": "2022-09-13T18:00:48.886573Z",
     "iopub.status.busy": "2022-09-13T18:00:48.886144Z",
     "iopub.status.idle": "2022-09-13T18:00:48.940270Z",
     "shell.execute_reply": "2022-09-13T18:00:48.939130Z"
    },
    "papermill": {
     "duration": 0.079147,
     "end_time": "2022-09-13T18:00:48.942964",
     "exception": false,
     "start_time": "2022-09-13T18:00:48.863817",
     "status": "completed"
    },
    "tags": []
   },
   "outputs": [],
   "source": [
    "df.drop(df[df['construction_type'] == \"mh\"].index, inplace = True,axis =0)"
   ]
  },
  {
   "cell_type": "code",
   "execution_count": 27,
   "id": "45fc0f2a",
   "metadata": {
    "execution": {
     "iopub.execute_input": "2022-09-13T18:00:48.986431Z",
     "iopub.status.busy": "2022-09-13T18:00:48.985652Z",
     "iopub.status.idle": "2022-09-13T18:00:49.035349Z",
     "shell.execute_reply": "2022-09-13T18:00:49.034207Z"
    },
    "papermill": {
     "duration": 0.074198,
     "end_time": "2022-09-13T18:00:49.038038",
     "exception": false,
     "start_time": "2022-09-13T18:00:48.963840",
     "status": "completed"
    },
    "tags": []
   },
   "outputs": [],
   "source": [
    "df.drop(df[df['Secured_by'] == \"opc\"].index, inplace = True,axis =0)"
   ]
  },
  {
   "cell_type": "code",
   "execution_count": 28,
   "id": "c62f51c0",
   "metadata": {
    "execution": {
     "iopub.execute_input": "2022-09-13T18:00:49.082587Z",
     "iopub.status.busy": "2022-09-13T18:00:49.082148Z",
     "iopub.status.idle": "2022-09-13T18:00:49.121086Z",
     "shell.execute_reply": "2022-09-13T18:00:49.119783Z"
    },
    "papermill": {
     "duration": 0.064521,
     "end_time": "2022-09-13T18:00:49.124330",
     "exception": false,
     "start_time": "2022-09-13T18:00:49.059809",
     "status": "completed"
    },
    "tags": []
   },
   "outputs": [],
   "source": [
    "#  and also these coloumns have only single category it doent contribute any pattern to the target variable so im dropping them\n",
    "\n",
    "df = df.drop(columns=['open_credit','construction_type','Secured_by','Security_Type'])"
   ]
  },
  {
   "cell_type": "code",
   "execution_count": 29,
   "id": "2db48ca5",
   "metadata": {
    "execution": {
     "iopub.execute_input": "2022-09-13T18:00:49.168512Z",
     "iopub.status.busy": "2022-09-13T18:00:49.167766Z",
     "iopub.status.idle": "2022-09-13T18:00:49.195493Z",
     "shell.execute_reply": "2022-09-13T18:00:49.194356Z"
    },
    "papermill": {
     "duration": 0.053219,
     "end_time": "2022-09-13T18:00:49.198306",
     "exception": false,
     "start_time": "2022-09-13T18:00:49.145087",
     "status": "completed"
    },
    "tags": []
   },
   "outputs": [
    {
     "data": {
      "text/html": [
       "<div>\n",
       "<style scoped>\n",
       "    .dataframe tbody tr th:only-of-type {\n",
       "        vertical-align: middle;\n",
       "    }\n",
       "\n",
       "    .dataframe tbody tr th {\n",
       "        vertical-align: top;\n",
       "    }\n",
       "\n",
       "    .dataframe thead th {\n",
       "        text-align: right;\n",
       "    }\n",
       "</style>\n",
       "<table border=\"1\" class=\"dataframe\">\n",
       "  <thead>\n",
       "    <tr style=\"text-align: right;\">\n",
       "      <th></th>\n",
       "      <th>loan_amount</th>\n",
       "      <th>rate_of_interest</th>\n",
       "      <th>Interest_rate_spread</th>\n",
       "      <th>Upfront_charges</th>\n",
       "      <th>term</th>\n",
       "      <th>property_value</th>\n",
       "      <th>income</th>\n",
       "      <th>Credit_Score</th>\n",
       "      <th>LTV</th>\n",
       "      <th>Status</th>\n",
       "      <th>...</th>\n",
       "      <th>Neg_ammortization</th>\n",
       "      <th>interest_only</th>\n",
       "      <th>lump_sum_payment</th>\n",
       "      <th>occupancy_type</th>\n",
       "      <th>total_units</th>\n",
       "      <th>credit_type</th>\n",
       "      <th>co_applicant_credit_type</th>\n",
       "      <th>age</th>\n",
       "      <th>submission_of_application</th>\n",
       "      <th>Region</th>\n",
       "    </tr>\n",
       "  </thead>\n",
       "  <tbody>\n",
       "    <tr>\n",
       "      <th>0</th>\n",
       "      <td>116500</td>\n",
       "      <td>4.045476</td>\n",
       "      <td>0.441656</td>\n",
       "      <td>3224.996127</td>\n",
       "      <td>360.0</td>\n",
       "      <td>118000.000000</td>\n",
       "      <td>1740.0</td>\n",
       "      <td>758</td>\n",
       "      <td>98.728814</td>\n",
       "      <td>1</td>\n",
       "      <td>...</td>\n",
       "      <td>not_neg</td>\n",
       "      <td>not_int</td>\n",
       "      <td>not_lpsm</td>\n",
       "      <td>pr</td>\n",
       "      <td>1U</td>\n",
       "      <td>EXP</td>\n",
       "      <td>CIB</td>\n",
       "      <td>25-34</td>\n",
       "      <td>to_inst</td>\n",
       "      <td>south</td>\n",
       "    </tr>\n",
       "    <tr>\n",
       "      <th>1</th>\n",
       "      <td>206500</td>\n",
       "      <td>4.045476</td>\n",
       "      <td>0.441656</td>\n",
       "      <td>3224.996127</td>\n",
       "      <td>360.0</td>\n",
       "      <td>497893.465696</td>\n",
       "      <td>4980.0</td>\n",
       "      <td>552</td>\n",
       "      <td>72.746457</td>\n",
       "      <td>1</td>\n",
       "      <td>...</td>\n",
       "      <td>not_neg</td>\n",
       "      <td>not_int</td>\n",
       "      <td>lpsm</td>\n",
       "      <td>pr</td>\n",
       "      <td>1U</td>\n",
       "      <td>EQUI</td>\n",
       "      <td>EXP</td>\n",
       "      <td>55-64</td>\n",
       "      <td>to_inst</td>\n",
       "      <td>North</td>\n",
       "    </tr>\n",
       "    <tr>\n",
       "      <th>2</th>\n",
       "      <td>406500</td>\n",
       "      <td>4.560000</td>\n",
       "      <td>0.200000</td>\n",
       "      <td>595.000000</td>\n",
       "      <td>360.0</td>\n",
       "      <td>508000.000000</td>\n",
       "      <td>9480.0</td>\n",
       "      <td>834</td>\n",
       "      <td>80.019685</td>\n",
       "      <td>0</td>\n",
       "      <td>...</td>\n",
       "      <td>neg_amm</td>\n",
       "      <td>not_int</td>\n",
       "      <td>not_lpsm</td>\n",
       "      <td>pr</td>\n",
       "      <td>1U</td>\n",
       "      <td>EXP</td>\n",
       "      <td>CIB</td>\n",
       "      <td>35-44</td>\n",
       "      <td>to_inst</td>\n",
       "      <td>south</td>\n",
       "    </tr>\n",
       "    <tr>\n",
       "      <th>3</th>\n",
       "      <td>456500</td>\n",
       "      <td>4.250000</td>\n",
       "      <td>0.681000</td>\n",
       "      <td>3224.996127</td>\n",
       "      <td>360.0</td>\n",
       "      <td>658000.000000</td>\n",
       "      <td>11880.0</td>\n",
       "      <td>587</td>\n",
       "      <td>69.376900</td>\n",
       "      <td>0</td>\n",
       "      <td>...</td>\n",
       "      <td>not_neg</td>\n",
       "      <td>not_int</td>\n",
       "      <td>not_lpsm</td>\n",
       "      <td>pr</td>\n",
       "      <td>1U</td>\n",
       "      <td>EXP</td>\n",
       "      <td>CIB</td>\n",
       "      <td>45-54</td>\n",
       "      <td>not_inst</td>\n",
       "      <td>North</td>\n",
       "    </tr>\n",
       "    <tr>\n",
       "      <th>4</th>\n",
       "      <td>696500</td>\n",
       "      <td>4.000000</td>\n",
       "      <td>0.304200</td>\n",
       "      <td>0.000000</td>\n",
       "      <td>360.0</td>\n",
       "      <td>758000.000000</td>\n",
       "      <td>10440.0</td>\n",
       "      <td>602</td>\n",
       "      <td>91.886544</td>\n",
       "      <td>0</td>\n",
       "      <td>...</td>\n",
       "      <td>not_neg</td>\n",
       "      <td>not_int</td>\n",
       "      <td>not_lpsm</td>\n",
       "      <td>pr</td>\n",
       "      <td>1U</td>\n",
       "      <td>CRIF</td>\n",
       "      <td>EXP</td>\n",
       "      <td>25-34</td>\n",
       "      <td>not_inst</td>\n",
       "      <td>North</td>\n",
       "    </tr>\n",
       "  </tbody>\n",
       "</table>\n",
       "<p>5 rows × 28 columns</p>\n",
       "</div>"
      ],
      "text/plain": [
       "   loan_amount  rate_of_interest  Interest_rate_spread  Upfront_charges  \\\n",
       "0       116500          4.045476              0.441656      3224.996127   \n",
       "1       206500          4.045476              0.441656      3224.996127   \n",
       "2       406500          4.560000              0.200000       595.000000   \n",
       "3       456500          4.250000              0.681000      3224.996127   \n",
       "4       696500          4.000000              0.304200         0.000000   \n",
       "\n",
       "    term  property_value   income  Credit_Score        LTV  Status  ...  \\\n",
       "0  360.0   118000.000000   1740.0           758  98.728814       1  ...   \n",
       "1  360.0   497893.465696   4980.0           552  72.746457       1  ...   \n",
       "2  360.0   508000.000000   9480.0           834  80.019685       0  ...   \n",
       "3  360.0   658000.000000  11880.0           587  69.376900       0  ...   \n",
       "4  360.0   758000.000000  10440.0           602  91.886544       0  ...   \n",
       "\n",
       "   Neg_ammortization interest_only lump_sum_payment occupancy_type  \\\n",
       "0            not_neg       not_int         not_lpsm             pr   \n",
       "1            not_neg       not_int             lpsm             pr   \n",
       "2            neg_amm       not_int         not_lpsm             pr   \n",
       "3            not_neg       not_int         not_lpsm             pr   \n",
       "4            not_neg       not_int         not_lpsm             pr   \n",
       "\n",
       "  total_units credit_type co_applicant_credit_type    age  \\\n",
       "0          1U         EXP                      CIB  25-34   \n",
       "1          1U        EQUI                      EXP  55-64   \n",
       "2          1U         EXP                      CIB  35-44   \n",
       "3          1U         EXP                      CIB  45-54   \n",
       "4          1U        CRIF                      EXP  25-34   \n",
       "\n",
       "  submission_of_application Region  \n",
       "0                   to_inst  south  \n",
       "1                   to_inst  North  \n",
       "2                   to_inst  south  \n",
       "3                  not_inst  North  \n",
       "4                  not_inst  North  \n",
       "\n",
       "[5 rows x 28 columns]"
      ]
     },
     "execution_count": 29,
     "metadata": {},
     "output_type": "execute_result"
    }
   ],
   "source": [
    "df.head()"
   ]
  },
  {
   "cell_type": "markdown",
   "id": "e8a059b7",
   "metadata": {
    "papermill": {
     "duration": 0.020772,
     "end_time": "2022-09-13T18:00:49.240265",
     "exception": false,
     "start_time": "2022-09-13T18:00:49.219493",
     "status": "completed"
    },
    "tags": []
   },
   "source": [
    "# correlation "
   ]
  },
  {
   "cell_type": "markdown",
   "id": "48507657",
   "metadata": {
    "papermill": {
     "duration": 0.020749,
     "end_time": "2022-09-13T18:00:49.282213",
     "exception": false,
     "start_time": "2022-09-13T18:00:49.261464",
     "status": "completed"
    },
    "tags": []
   },
   "source": [
    "### Checking whether any correlation existed among the features"
   ]
  },
  {
   "cell_type": "code",
   "execution_count": 30,
   "id": "3354f886",
   "metadata": {
    "execution": {
     "iopub.execute_input": "2022-09-13T18:00:49.326571Z",
     "iopub.status.busy": "2022-09-13T18:00:49.325806Z",
     "iopub.status.idle": "2022-09-13T18:00:50.264617Z",
     "shell.execute_reply": "2022-09-13T18:00:50.263649Z"
    },
    "papermill": {
     "duration": 0.964331,
     "end_time": "2022-09-13T18:00:50.267541",
     "exception": false,
     "start_time": "2022-09-13T18:00:49.303210",
     "status": "completed"
    },
    "tags": []
   },
   "outputs": [
    {
     "data": {
      "image/png": "[encoded data removed]",
      "text/plain": [
       "<Figure size 1080x720 with 2 Axes>"
      ]
     },
     "metadata": {
      "needs_background": "light"
     },
     "output_type": "display_data"
    }
   ],
   "source": [
    "corr = df.corr()\n",
    "\n",
    "plt.figure(figsize=(15, 10))\n",
    "sns.heatmap(corr, annot=True, cmap='RdYlGn')\n",
    "plt.show()"
   ]
  },
  {
   "cell_type": "markdown",
   "id": "a24926c4",
   "metadata": {
    "papermill": {
     "duration": 0.02274,
     "end_time": "2022-09-13T18:00:50.313205",
     "exception": false,
     "start_time": "2022-09-13T18:00:50.290465",
     "status": "completed"
    },
    "tags": []
   },
   "source": [
    "### There isn't enough correlation among the input features in order to drop any"
   ]
  },
  {
   "cell_type": "markdown",
   "id": "4ca68bec",
   "metadata": {
    "papermill": {
     "duration": 0.022233,
     "end_time": "2022-09-13T18:00:50.358033",
     "exception": false,
     "start_time": "2022-09-13T18:00:50.335800",
     "status": "completed"
    },
    "tags": []
   },
   "source": [
    "# Train-Test Split"
   ]
  },
  {
   "cell_type": "code",
   "execution_count": 31,
   "id": "c8b9e705",
   "metadata": {
    "execution": {
     "iopub.execute_input": "2022-09-13T18:00:50.405342Z",
     "iopub.status.busy": "2022-09-13T18:00:50.404535Z",
     "iopub.status.idle": "2022-09-13T18:00:50.433949Z",
     "shell.execute_reply": "2022-09-13T18:00:50.432968Z"
    },
    "papermill": {
     "duration": 0.056172,
     "end_time": "2022-09-13T18:00:50.436631",
     "exception": false,
     "start_time": "2022-09-13T18:00:50.380459",
     "status": "completed"
    },
    "tags": []
   },
   "outputs": [],
   "source": [
    "X = df.drop(columns=['Status'])\n",
    "#The drop() method removes the specified row or column."
   ]
  },
  {
   "cell_type": "code",
   "execution_count": 32,
   "id": "cad96dfc",
   "metadata": {
    "execution": {
     "iopub.execute_input": "2022-09-13T18:00:50.484894Z",
     "iopub.status.busy": "2022-09-13T18:00:50.484463Z",
     "iopub.status.idle": "2022-09-13T18:00:50.511148Z",
     "shell.execute_reply": "2022-09-13T18:00:50.510274Z"
    },
    "papermill": {
     "duration": 0.053975,
     "end_time": "2022-09-13T18:00:50.513412",
     "exception": false,
     "start_time": "2022-09-13T18:00:50.459437",
     "status": "completed"
    },
    "tags": []
   },
   "outputs": [
    {
     "data": {
      "text/html": [
       "<div>\n",
       "<style scoped>\n",
       "    .dataframe tbody tr th:only-of-type {\n",
       "        vertical-align: middle;\n",
       "    }\n",
       "\n",
       "    .dataframe tbody tr th {\n",
       "        vertical-align: top;\n",
       "    }\n",
       "\n",
       "    .dataframe thead th {\n",
       "        text-align: right;\n",
       "    }\n",
       "</style>\n",
       "<table border=\"1\" class=\"dataframe\">\n",
       "  <thead>\n",
       "    <tr style=\"text-align: right;\">\n",
       "      <th></th>\n",
       "      <th>loan_amount</th>\n",
       "      <th>rate_of_interest</th>\n",
       "      <th>Interest_rate_spread</th>\n",
       "      <th>Upfront_charges</th>\n",
       "      <th>term</th>\n",
       "      <th>property_value</th>\n",
       "      <th>income</th>\n",
       "      <th>Credit_Score</th>\n",
       "      <th>LTV</th>\n",
       "      <th>dtir1</th>\n",
       "      <th>...</th>\n",
       "      <th>Neg_ammortization</th>\n",
       "      <th>interest_only</th>\n",
       "      <th>lump_sum_payment</th>\n",
       "      <th>occupancy_type</th>\n",
       "      <th>total_units</th>\n",
       "      <th>credit_type</th>\n",
       "      <th>co_applicant_credit_type</th>\n",
       "      <th>age</th>\n",
       "      <th>submission_of_application</th>\n",
       "      <th>Region</th>\n",
       "    </tr>\n",
       "  </thead>\n",
       "  <tbody>\n",
       "    <tr>\n",
       "      <th>0</th>\n",
       "      <td>116500</td>\n",
       "      <td>4.045476</td>\n",
       "      <td>0.441656</td>\n",
       "      <td>3224.996127</td>\n",
       "      <td>360.0</td>\n",
       "      <td>118000.000000</td>\n",
       "      <td>1740.0</td>\n",
       "      <td>758</td>\n",
       "      <td>98.728814</td>\n",
       "      <td>45.000000</td>\n",
       "      <td>...</td>\n",
       "      <td>not_neg</td>\n",
       "      <td>not_int</td>\n",
       "      <td>not_lpsm</td>\n",
       "      <td>pr</td>\n",
       "      <td>1U</td>\n",
       "      <td>EXP</td>\n",
       "      <td>CIB</td>\n",
       "      <td>25-34</td>\n",
       "      <td>to_inst</td>\n",
       "      <td>south</td>\n",
       "    </tr>\n",
       "    <tr>\n",
       "      <th>1</th>\n",
       "      <td>206500</td>\n",
       "      <td>4.045476</td>\n",
       "      <td>0.441656</td>\n",
       "      <td>3224.996127</td>\n",
       "      <td>360.0</td>\n",
       "      <td>497893.465696</td>\n",
       "      <td>4980.0</td>\n",
       "      <td>552</td>\n",
       "      <td>72.746457</td>\n",
       "      <td>37.732932</td>\n",
       "      <td>...</td>\n",
       "      <td>not_neg</td>\n",
       "      <td>not_int</td>\n",
       "      <td>lpsm</td>\n",
       "      <td>pr</td>\n",
       "      <td>1U</td>\n",
       "      <td>EQUI</td>\n",
       "      <td>EXP</td>\n",
       "      <td>55-64</td>\n",
       "      <td>to_inst</td>\n",
       "      <td>North</td>\n",
       "    </tr>\n",
       "    <tr>\n",
       "      <th>2</th>\n",
       "      <td>406500</td>\n",
       "      <td>4.560000</td>\n",
       "      <td>0.200000</td>\n",
       "      <td>595.000000</td>\n",
       "      <td>360.0</td>\n",
       "      <td>508000.000000</td>\n",
       "      <td>9480.0</td>\n",
       "      <td>834</td>\n",
       "      <td>80.019685</td>\n",
       "      <td>46.000000</td>\n",
       "      <td>...</td>\n",
       "      <td>neg_amm</td>\n",
       "      <td>not_int</td>\n",
       "      <td>not_lpsm</td>\n",
       "      <td>pr</td>\n",
       "      <td>1U</td>\n",
       "      <td>EXP</td>\n",
       "      <td>CIB</td>\n",
       "      <td>35-44</td>\n",
       "      <td>to_inst</td>\n",
       "      <td>south</td>\n",
       "    </tr>\n",
       "    <tr>\n",
       "      <th>3</th>\n",
       "      <td>456500</td>\n",
       "      <td>4.250000</td>\n",
       "      <td>0.681000</td>\n",
       "      <td>3224.996127</td>\n",
       "      <td>360.0</td>\n",
       "      <td>658000.000000</td>\n",
       "      <td>11880.0</td>\n",
       "      <td>587</td>\n",
       "      <td>69.376900</td>\n",
       "      <td>42.000000</td>\n",
       "      <td>...</td>\n",
       "      <td>not_neg</td>\n",
       "      <td>not_int</td>\n",
       "      <td>not_lpsm</td>\n",
       "      <td>pr</td>\n",
       "      <td>1U</td>\n",
       "      <td>EXP</td>\n",
       "      <td>CIB</td>\n",
       "      <td>45-54</td>\n",
       "      <td>not_inst</td>\n",
       "      <td>North</td>\n",
       "    </tr>\n",
       "    <tr>\n",
       "      <th>4</th>\n",
       "      <td>696500</td>\n",
       "      <td>4.000000</td>\n",
       "      <td>0.304200</td>\n",
       "      <td>0.000000</td>\n",
       "      <td>360.0</td>\n",
       "      <td>758000.000000</td>\n",
       "      <td>10440.0</td>\n",
       "      <td>602</td>\n",
       "      <td>91.886544</td>\n",
       "      <td>39.000000</td>\n",
       "      <td>...</td>\n",
       "      <td>not_neg</td>\n",
       "      <td>not_int</td>\n",
       "      <td>not_lpsm</td>\n",
       "      <td>pr</td>\n",
       "      <td>1U</td>\n",
       "      <td>CRIF</td>\n",
       "      <td>EXP</td>\n",
       "      <td>25-34</td>\n",
       "      <td>not_inst</td>\n",
       "      <td>North</td>\n",
       "    </tr>\n",
       "  </tbody>\n",
       "</table>\n",
       "<p>5 rows × 27 columns</p>\n",
       "</div>"
      ],
      "text/plain": [
       "   loan_amount  rate_of_interest  Interest_rate_spread  Upfront_charges  \\\n",
       "0       116500          4.045476              0.441656      3224.996127   \n",
       "1       206500          4.045476              0.441656      3224.996127   \n",
       "2       406500          4.560000              0.200000       595.000000   \n",
       "3       456500          4.250000              0.681000      3224.996127   \n",
       "4       696500          4.000000              0.304200         0.000000   \n",
       "\n",
       "    term  property_value   income  Credit_Score        LTV      dtir1  ...  \\\n",
       "0  360.0   118000.000000   1740.0           758  98.728814  45.000000  ...   \n",
       "1  360.0   497893.465696   4980.0           552  72.746457  37.732932  ...   \n",
       "2  360.0   508000.000000   9480.0           834  80.019685  46.000000  ...   \n",
       "3  360.0   658000.000000  11880.0           587  69.376900  42.000000  ...   \n",
       "4  360.0   758000.000000  10440.0           602  91.886544  39.000000  ...   \n",
       "\n",
       "  Neg_ammortization interest_only lump_sum_payment occupancy_type total_units  \\\n",
       "0           not_neg       not_int         not_lpsm             pr          1U   \n",
       "1           not_neg       not_int             lpsm             pr          1U   \n",
       "2           neg_amm       not_int         not_lpsm             pr          1U   \n",
       "3           not_neg       not_int         not_lpsm             pr          1U   \n",
       "4           not_neg       not_int         not_lpsm             pr          1U   \n",
       "\n",
       "  credit_type co_applicant_credit_type    age submission_of_application Region  \n",
       "0         EXP                      CIB  25-34                   to_inst  south  \n",
       "1        EQUI                      EXP  55-64                   to_inst  North  \n",
       "2         EXP                      CIB  35-44                   to_inst  south  \n",
       "3         EXP                      CIB  45-54                  not_inst  North  \n",
       "4        CRIF                      EXP  25-34                  not_inst  North  \n",
       "\n",
       "[5 rows x 27 columns]"
      ]
     },
     "execution_count": 32,
     "metadata": {},
     "output_type": "execute_result"
    }
   ],
   "source": [
    "X.head()"
   ]
  },
  {
   "cell_type": "code",
   "execution_count": 33,
   "id": "2317f52f",
   "metadata": {
    "execution": {
     "iopub.execute_input": "2022-09-13T18:00:50.563161Z",
     "iopub.status.busy": "2022-09-13T18:00:50.561924Z",
     "iopub.status.idle": "2022-09-13T18:00:50.569814Z",
     "shell.execute_reply": "2022-09-13T18:00:50.568813Z"
    },
    "papermill": {
     "duration": 0.035536,
     "end_time": "2022-09-13T18:00:50.572152",
     "exception": false,
     "start_time": "2022-09-13T18:00:50.536616",
     "status": "completed"
    },
    "tags": []
   },
   "outputs": [
    {
     "data": {
      "text/plain": [
       "0    1\n",
       "1    1\n",
       "2    0\n",
       "3    0\n",
       "4    0\n",
       "Name: Status, dtype: int64"
      ]
     },
     "execution_count": 33,
     "metadata": {},
     "output_type": "execute_result"
    }
   ],
   "source": [
    "y = df['Status']\n",
    "y.head()"
   ]
  },
  {
   "cell_type": "code",
   "execution_count": 34,
   "id": "10dadba2",
   "metadata": {
    "execution": {
     "iopub.execute_input": "2022-09-13T18:00:50.620475Z",
     "iopub.status.busy": "2022-09-13T18:00:50.619858Z",
     "iopub.status.idle": "2022-09-13T18:00:50.778847Z",
     "shell.execute_reply": "2022-09-13T18:00:50.777742Z"
    },
    "papermill": {
     "duration": 0.186806,
     "end_time": "2022-09-13T18:00:50.782147",
     "exception": false,
     "start_time": "2022-09-13T18:00:50.595341",
     "status": "completed"
    },
    "tags": []
   },
   "outputs": [],
   "source": [
    "X_train, X_test, y_train, y_test = train_test_split(X, y, test_size=0.33, random_state=42)"
   ]
  },
  {
   "cell_type": "markdown",
   "id": "00f6bf1b",
   "metadata": {
    "papermill": {
     "duration": 0.022969,
     "end_time": "2022-09-13T18:00:50.828763",
     "exception": false,
     "start_time": "2022-09-13T18:00:50.805794",
     "status": "completed"
    },
    "tags": []
   },
   "source": [
    "# Preprocessing"
   ]
  },
  {
   "cell_type": "markdown",
   "id": "8b58401a",
   "metadata": {
    "papermill": {
     "duration": 0.022567,
     "end_time": "2022-09-13T18:00:50.874355",
     "exception": false,
     "start_time": "2022-09-13T18:00:50.851788",
     "status": "completed"
    },
    "tags": []
   },
   "source": [
    "### Preprocessing the Train & Test Data separately to avoid Data Leakage"
   ]
  },
  {
   "cell_type": "markdown",
   "id": "67360a56",
   "metadata": {
    "papermill": {
     "duration": 0.022834,
     "end_time": "2022-09-13T18:00:50.920131",
     "exception": false,
     "start_time": "2022-09-13T18:00:50.897297",
     "status": "completed"
    },
    "tags": []
   },
   "source": [
    "# Outliers "
   ]
  },
  {
   "cell_type": "code",
   "execution_count": 35,
   "id": "db319965",
   "metadata": {
    "execution": {
     "iopub.execute_input": "2022-09-13T18:00:50.968200Z",
     "iopub.status.busy": "2022-09-13T18:00:50.967819Z",
     "iopub.status.idle": "2022-09-13T18:00:52.172906Z",
     "shell.execute_reply": "2022-09-13T18:00:52.171769Z"
    },
    "papermill": {
     "duration": 1.232144,
     "end_time": "2022-09-13T18:00:52.175430",
     "exception": false,
     "start_time": "2022-09-13T18:00:50.943286",
     "status": "completed"
    },
    "tags": []
   },
   "outputs": [
    {
     "data": {
      "image/png": "[encoded data removed]",
      "text/plain": [
       "<Figure size 1800x720 with 1 Axes>"
      ]
     },
     "metadata": {
      "needs_background": "light"
     },
     "output_type": "display_data"
    }
   ],
   "source": [
    "plt.figure(figsize=(25, 10))\n",
    "\n",
    "X_train.boxplot()\n",
    "plt.show()"
   ]
  },
  {
   "cell_type": "markdown",
   "id": "3a085165",
   "metadata": {
    "papermill": {
     "duration": 0.023214,
     "end_time": "2022-09-13T18:00:52.222950",
     "exception": false,
     "start_time": "2022-09-13T18:00:52.199736",
     "status": "completed"
    },
    "tags": []
   },
   "source": [
    "### Features with outliers\n",
    "\n",
    "1. loan_amount\n",
    "\n",
    "2. rate_of_interest\n",
    "\n",
    "3. Interest_rate_spread\n",
    "\n",
    "4. Upfront_charges\n",
    "\n",
    "5. term\n",
    "\n",
    "6. property_value\n",
    "\n",
    "7. income\n",
    "\n",
    "8. LTV"
   ]
  },
  {
   "cell_type": "code",
   "execution_count": 36,
   "id": "b12a6544",
   "metadata": {
    "execution": {
     "iopub.execute_input": "2022-09-13T18:00:52.271731Z",
     "iopub.status.busy": "2022-09-13T18:00:52.271295Z",
     "iopub.status.idle": "2022-09-13T18:00:52.276315Z",
     "shell.execute_reply": "2022-09-13T18:00:52.275201Z"
    },
    "papermill": {
     "duration": 0.032351,
     "end_time": "2022-09-13T18:00:52.278751",
     "exception": false,
     "start_time": "2022-09-13T18:00:52.246400",
     "status": "completed"
    },
    "tags": []
   },
   "outputs": [],
   "source": [
    "outliers_features = ['loan_amount','rate_of_interest','Interest_rate_spread',\n",
    "                     'Upfront_charges','term','property_value','income','LTV']"
   ]
  },
  {
   "cell_type": "code",
   "execution_count": 37,
   "id": "de99b72f",
   "metadata": {
    "execution": {
     "iopub.execute_input": "2022-09-13T18:00:52.327999Z",
     "iopub.status.busy": "2022-09-13T18:00:52.327174Z",
     "iopub.status.idle": "2022-09-13T18:00:52.698206Z",
     "shell.execute_reply": "2022-09-13T18:00:52.696752Z"
    },
    "papermill": {
     "duration": 0.398644,
     "end_time": "2022-09-13T18:00:52.701091",
     "exception": false,
     "start_time": "2022-09-13T18:00:52.302447",
     "status": "completed"
    },
    "tags": []
   },
   "outputs": [
    {
     "data": {
      "image/png": "[encoded data removed]",
      "text/plain": [
       "<Figure size 1080x720 with 1 Axes>"
      ]
     },
     "metadata": {
      "needs_background": "light"
     },
     "output_type": "display_data"
    }
   ],
   "source": [
    "plt.figure(figsize=(15,10))\n",
    "\n",
    "X_train[[ 'property_value','loan_amount']].boxplot()\n",
    "plt.show()"
   ]
  },
  {
   "cell_type": "markdown",
   "id": "8bda622e",
   "metadata": {
    "papermill": {
     "duration": 0.023454,
     "end_time": "2022-09-13T18:00:52.748830",
     "exception": false,
     "start_time": "2022-09-13T18:00:52.725376",
     "status": "completed"
    },
    "tags": []
   },
   "source": [
    "## Creating a custom Transformer to handle the Outliers"
   ]
  },
  {
   "cell_type": "code",
   "execution_count": 38,
   "id": "3d2c7c8a",
   "metadata": {
    "execution": {
     "iopub.execute_input": "2022-09-13T18:00:52.798498Z",
     "iopub.status.busy": "2022-09-13T18:00:52.797449Z",
     "iopub.status.idle": "2022-09-13T18:00:52.809202Z",
     "shell.execute_reply": "2022-09-13T18:00:52.808230Z"
    },
    "papermill": {
     "duration": 0.039339,
     "end_time": "2022-09-13T18:00:52.811729",
     "exception": false,
     "start_time": "2022-09-13T18:00:52.772390",
     "status": "completed"
    },
    "tags": []
   },
   "outputs": [],
   "source": [
    "# My custom Transformer to handle the Outliers\n",
    "\n",
    "from sklearn.base import TransformerMixin\n",
    "import pandas as pd\n",
    "pd.options.mode.chained_assignment = None  # To ignore the warning for not returning a copied DataFrame\n",
    "\n",
    "class HandleOutliers(TransformerMixin):\n",
    "    \n",
    "    def fit(self, X, y=None):\n",
    "        return self\n",
    "    \n",
    "    def transform(self, X):\n",
    "\n",
    "        from scipy.stats import shapiro # shapiro test will output the value of p \n",
    "\n",
    "        for col in X.columns : # Looping through all columns within the given DataFrame\n",
    "            \n",
    "            # If p-value < 0.05 == Skewed Distribution, else Normal Distribution\n",
    "            \n",
    "            if shapiro(X[col]).pvalue < 0.05 :\n",
    "\n",
    "                # IQR method to handle outliers with Skewed Distribution\n",
    "                q1 = X[col].quantile(0.25)\n",
    "                q3 = X[col].quantile(0.75)\n",
    "\n",
    "                # iqr = q3 - q1\n",
    "\n",
    "                lower_boundary = q1 - 1.5 * q1\n",
    "                upper_boundary = q3 + 1.5 * q3\n",
    "\n",
    "                X.loc[X[col] <= lower_boundary, col] = lower_boundary\n",
    "                X.loc[X[col] >= upper_boundary, col] = upper_boundary\n",
    "\n",
    "                \n",
    "            else :\n",
    "\n",
    "                # 3-Sigma method to handle outliers with Normal Distribution\n",
    "                lower_boundary = X[col].mean() - 3 * X[col].std()\n",
    "                upper_boundary = X[col].mean() + 3 * X[col].std()\n",
    "\n",
    "                X.loc[X[col] <= lower_boundary, col] = lower_boundary\n",
    "                X.loc[X[col] >= upper_boundary, col] = upper_boundary\n",
    "                \n",
    "        return X"
   ]
  },
  {
   "cell_type": "code",
   "execution_count": 39,
   "id": "76e2ed2a",
   "metadata": {
    "execution": {
     "iopub.execute_input": "2022-09-13T18:00:52.861688Z",
     "iopub.status.busy": "2022-09-13T18:00:52.860882Z",
     "iopub.status.idle": "2022-09-13T18:00:52.865941Z",
     "shell.execute_reply": "2022-09-13T18:00:52.865035Z"
    },
    "papermill": {
     "duration": 0.032631,
     "end_time": "2022-09-13T18:00:52.868260",
     "exception": false,
     "start_time": "2022-09-13T18:00:52.835629",
     "status": "completed"
    },
    "tags": []
   },
   "outputs": [],
   "source": [
    "# here we have instantiated handleoutliers(classs) to object outliers \n",
    "outliers = HandleOutliers()"
   ]
  },
  {
   "cell_type": "code",
   "execution_count": 40,
   "id": "0a9cec1c",
   "metadata": {
    "execution": {
     "iopub.execute_input": "2022-09-13T18:00:52.918039Z",
     "iopub.status.busy": "2022-09-13T18:00:52.917444Z",
     "iopub.status.idle": "2022-09-13T18:00:54.413308Z",
     "shell.execute_reply": "2022-09-13T18:00:54.412215Z"
    },
    "papermill": {
     "duration": 1.523853,
     "end_time": "2022-09-13T18:00:54.415816",
     "exception": false,
     "start_time": "2022-09-13T18:00:52.891963",
     "status": "completed"
    },
    "tags": []
   },
   "outputs": [
    {
     "data": {
      "image/png": "[encoded data removed]",
      "text/plain": [
       "<Figure size 432x288 with 9 Axes>"
      ]
     },
     "metadata": {
      "needs_background": "light"
     },
     "output_type": "display_data"
    }
   ],
   "source": [
    "# X_train before handling the outliers\n",
    "X_train[outliers_features].hist(bins=50)\n",
    "plt.show()"
   ]
  },
  {
   "cell_type": "code",
   "execution_count": 41,
   "id": "25d51ee6",
   "metadata": {
    "execution": {
     "iopub.execute_input": "2022-09-13T18:00:54.474578Z",
     "iopub.status.busy": "2022-09-13T18:00:54.473490Z",
     "iopub.status.idle": "2022-09-13T18:00:54.594239Z",
     "shell.execute_reply": "2022-09-13T18:00:54.593299Z"
    },
    "papermill": {
     "duration": 0.1562,
     "end_time": "2022-09-13T18:00:54.596868",
     "exception": false,
     "start_time": "2022-09-13T18:00:54.440668",
     "status": "completed"
    },
    "tags": []
   },
   "outputs": [],
   "source": [
    "# using a method of handleoutliers class with fit_transform\n",
    "outliers_df = outliers.fit_transform(X_train[outliers_features])"
   ]
  },
  {
   "cell_type": "code",
   "execution_count": 42,
   "id": "b7500005",
   "metadata": {
    "execution": {
     "iopub.execute_input": "2022-09-13T18:00:54.647359Z",
     "iopub.status.busy": "2022-09-13T18:00:54.646328Z",
     "iopub.status.idle": "2022-09-13T18:00:56.058385Z",
     "shell.execute_reply": "2022-09-13T18:00:56.056562Z"
    },
    "papermill": {
     "duration": 1.440664,
     "end_time": "2022-09-13T18:00:56.061598",
     "exception": false,
     "start_time": "2022-09-13T18:00:54.620934",
     "status": "completed"
    },
    "tags": []
   },
   "outputs": [
    {
     "data": {
      "image/png": "[encoded data removed]",
      "text/plain": [
       "<Figure size 432x288 with 9 Axes>"
      ]
     },
     "metadata": {
      "needs_background": "light"
     },
     "output_type": "display_data"
    }
   ],
   "source": [
    "outliers_df.hist(bins=50)\n",
    "plt.show()"
   ]
  },
  {
   "cell_type": "code",
   "execution_count": 43,
   "id": "7724168e",
   "metadata": {
    "execution": {
     "iopub.execute_input": "2022-09-13T18:00:56.120658Z",
     "iopub.status.busy": "2022-09-13T18:00:56.120228Z",
     "iopub.status.idle": "2022-09-13T18:00:56.147183Z",
     "shell.execute_reply": "2022-09-13T18:00:56.146178Z"
    },
    "papermill": {
     "duration": 0.056851,
     "end_time": "2022-09-13T18:00:56.149930",
     "exception": false,
     "start_time": "2022-09-13T18:00:56.093079",
     "status": "completed"
    },
    "tags": []
   },
   "outputs": [],
   "source": [
    "X_train.drop(outliers_features, axis=1, inplace=True)"
   ]
  },
  {
   "cell_type": "code",
   "execution_count": 44,
   "id": "074dcd9b",
   "metadata": {
    "execution": {
     "iopub.execute_input": "2022-09-13T18:00:56.203968Z",
     "iopub.status.busy": "2022-09-13T18:00:56.202870Z",
     "iopub.status.idle": "2022-09-13T18:00:56.224412Z",
     "shell.execute_reply": "2022-09-13T18:00:56.223213Z"
    },
    "papermill": {
     "duration": 0.051633,
     "end_time": "2022-09-13T18:00:56.227281",
     "exception": false,
     "start_time": "2022-09-13T18:00:56.175648",
     "status": "completed"
    },
    "tags": []
   },
   "outputs": [],
   "source": [
    "X_train = pd.concat([X_train, outliers_df], axis=1)"
   ]
  },
  {
   "cell_type": "markdown",
   "id": "59312d50",
   "metadata": {
    "papermill": {
     "duration": 0.028084,
     "end_time": "2022-09-13T18:00:56.281740",
     "exception": false,
     "start_time": "2022-09-13T18:00:56.253656",
     "status": "completed"
    },
    "tags": []
   },
   "source": [
    "# Handling Categorical Features (Encoding)"
   ]
  },
  {
   "cell_type": "code",
   "execution_count": 45,
   "id": "029b6aa8",
   "metadata": {
    "execution": {
     "iopub.execute_input": "2022-09-13T18:00:56.337416Z",
     "iopub.status.busy": "2022-09-13T18:00:56.336734Z",
     "iopub.status.idle": "2022-09-13T18:00:56.347829Z",
     "shell.execute_reply": "2022-09-13T18:00:56.346693Z"
    },
    "papermill": {
     "duration": 0.041604,
     "end_time": "2022-09-13T18:00:56.350355",
     "exception": false,
     "start_time": "2022-09-13T18:00:56.308751",
     "status": "completed"
    },
    "tags": []
   },
   "outputs": [
    {
     "data": {
      "text/plain": [
       "['loan_limit',\n",
       " 'Gender',\n",
       " 'approv_in_adv',\n",
       " 'loan_type',\n",
       " 'loan_purpose',\n",
       " 'Credit_Worthiness',\n",
       " 'business_or_commercial',\n",
       " 'Neg_ammortization',\n",
       " 'interest_only',\n",
       " 'lump_sum_payment',\n",
       " 'occupancy_type',\n",
       " 'total_units',\n",
       " 'credit_type',\n",
       " 'co_applicant_credit_type',\n",
       " 'age',\n",
       " 'submission_of_application',\n",
       " 'Region']"
      ]
     },
     "execution_count": 45,
     "metadata": {},
     "output_type": "execute_result"
    }
   ],
   "source": [
    "# Appending all the features with dtype == 'object' (Categorical Features) in a list\n",
    "cat_features = []\n",
    "\n",
    "for col in X_train.columns :\n",
    "    if X_train[col].dtype == 'object' :\n",
    "        cat_features.append(col)\n",
    "        \n",
    "cat_features"
   ]
  },
  {
   "cell_type": "markdown",
   "id": "36879e86",
   "metadata": {
    "papermill": {
     "duration": 0.026321,
     "end_time": "2022-09-13T18:00:56.403385",
     "exception": false,
     "start_time": "2022-09-13T18:00:56.377064",
     "status": "completed"
    },
    "tags": []
   },
   "source": [
    "### Nominal Features (To OneHot Encode)\n",
    "\n",
    "#### Write a note: Assuming this Feature as Categorical in nature, coz we haven't provided the entire information\n",
    "\n",
    "1. loan_limit\n",
    "\n",
    "2. Gender\n",
    "\n",
    "3. approv_in_adv\n",
    "\n",
    "4. loan_type\n",
    "\n",
    "5. loan_purpose\n",
    "\n",
    "6. Credit_Worthiness\n",
    "\n",
    "7. open_credit\n",
    "\n",
    "8. business_or_commercial\n",
    "\n",
    "9. Neg_ammortization\n",
    "\n",
    "10. interest_only\n",
    "\n",
    "11. lump_sum_payment\n",
    "\n",
    "12. construction_type\n",
    "\n",
    "13. occupancy_type\n",
    "\n",
    "14. Secured_by\n",
    "\n",
    "15. total_units\n",
    "\n",
    "16. credit_type\n",
    "\n",
    "17. co_applicant_credit_type\n",
    "\n",
    "18. age\n",
    "\n",
    "19. submission_of_application\n",
    "\n",
    "20. Region\n",
    "\n",
    "21. Security_Type"
   ]
  },
  {
   "cell_type": "markdown",
   "id": "af251b9b",
   "metadata": {
    "papermill": {
     "duration": 0.026723,
     "end_time": "2022-09-13T18:00:56.457257",
     "exception": false,
     "start_time": "2022-09-13T18:00:56.430534",
     "status": "completed"
    },
    "tags": []
   },
   "source": [
    "### a) OneHotEncoding\n"
   ]
  },
  {
   "cell_type": "code",
   "execution_count": 46,
   "id": "993def4b",
   "metadata": {
    "execution": {
     "iopub.execute_input": "2022-09-13T18:00:56.514063Z",
     "iopub.status.busy": "2022-09-13T18:00:56.513192Z",
     "iopub.status.idle": "2022-09-13T18:00:57.034626Z",
     "shell.execute_reply": "2022-09-13T18:00:57.033240Z"
    },
    "papermill": {
     "duration": 0.555058,
     "end_time": "2022-09-13T18:00:57.038665",
     "exception": false,
     "start_time": "2022-09-13T18:00:56.483607",
     "status": "completed"
    },
    "tags": []
   },
   "outputs": [
    {
     "data": {
      "text/html": [
       "<div>\n",
       "<style scoped>\n",
       "    .dataframe tbody tr th:only-of-type {\n",
       "        vertical-align: middle;\n",
       "    }\n",
       "\n",
       "    .dataframe tbody tr th {\n",
       "        vertical-align: top;\n",
       "    }\n",
       "\n",
       "    .dataframe thead th {\n",
       "        text-align: right;\n",
       "    }\n",
       "</style>\n",
       "<table border=\"1\" class=\"dataframe\">\n",
       "  <thead>\n",
       "    <tr style=\"text-align: right;\">\n",
       "      <th></th>\n",
       "      <th>loan_limit</th>\n",
       "      <th>Gender</th>\n",
       "      <th>approv_in_adv</th>\n",
       "      <th>loan_type</th>\n",
       "      <th>loan_purpose</th>\n",
       "      <th>Credit_Worthiness</th>\n",
       "      <th>business_or_commercial</th>\n",
       "      <th>Neg_ammortization</th>\n",
       "      <th>interest_only</th>\n",
       "      <th>lump_sum_payment</th>\n",
       "      <th>...</th>\n",
       "      <th>age_35-44</th>\n",
       "      <th>age_45-54</th>\n",
       "      <th>age_55-64</th>\n",
       "      <th>age_65-74</th>\n",
       "      <th>age_&lt;25</th>\n",
       "      <th>age_&gt;74</th>\n",
       "      <th>submission_of_application_to_inst</th>\n",
       "      <th>Region_North-East</th>\n",
       "      <th>Region_central</th>\n",
       "      <th>Region_south</th>\n",
       "    </tr>\n",
       "  </thead>\n",
       "  <tbody>\n",
       "    <tr>\n",
       "      <th>109421</th>\n",
       "      <td>cf</td>\n",
       "      <td>Female</td>\n",
       "      <td>pre</td>\n",
       "      <td>type2</td>\n",
       "      <td>p1</td>\n",
       "      <td>l1</td>\n",
       "      <td>b/c</td>\n",
       "      <td>not_neg</td>\n",
       "      <td>not_int</td>\n",
       "      <td>not_lpsm</td>\n",
       "      <td>...</td>\n",
       "      <td>0</td>\n",
       "      <td>1</td>\n",
       "      <td>0</td>\n",
       "      <td>0</td>\n",
       "      <td>0</td>\n",
       "      <td>0</td>\n",
       "      <td>1</td>\n",
       "      <td>0</td>\n",
       "      <td>0</td>\n",
       "      <td>0</td>\n",
       "    </tr>\n",
       "    <tr>\n",
       "      <th>47176</th>\n",
       "      <td>cf</td>\n",
       "      <td>Sex Not Available</td>\n",
       "      <td>nopre</td>\n",
       "      <td>type1</td>\n",
       "      <td>p1</td>\n",
       "      <td>l1</td>\n",
       "      <td>nob/c</td>\n",
       "      <td>neg_amm</td>\n",
       "      <td>not_int</td>\n",
       "      <td>not_lpsm</td>\n",
       "      <td>...</td>\n",
       "      <td>0</td>\n",
       "      <td>0</td>\n",
       "      <td>0</td>\n",
       "      <td>0</td>\n",
       "      <td>0</td>\n",
       "      <td>0</td>\n",
       "      <td>1</td>\n",
       "      <td>0</td>\n",
       "      <td>0</td>\n",
       "      <td>1</td>\n",
       "    </tr>\n",
       "    <tr>\n",
       "      <th>102322</th>\n",
       "      <td>cf</td>\n",
       "      <td>Joint</td>\n",
       "      <td>nopre</td>\n",
       "      <td>type2</td>\n",
       "      <td>p4</td>\n",
       "      <td>l1</td>\n",
       "      <td>b/c</td>\n",
       "      <td>not_neg</td>\n",
       "      <td>not_int</td>\n",
       "      <td>not_lpsm</td>\n",
       "      <td>...</td>\n",
       "      <td>1</td>\n",
       "      <td>0</td>\n",
       "      <td>0</td>\n",
       "      <td>0</td>\n",
       "      <td>0</td>\n",
       "      <td>0</td>\n",
       "      <td>0</td>\n",
       "      <td>0</td>\n",
       "      <td>0</td>\n",
       "      <td>0</td>\n",
       "    </tr>\n",
       "    <tr>\n",
       "      <th>115375</th>\n",
       "      <td>cf</td>\n",
       "      <td>Male</td>\n",
       "      <td>nopre</td>\n",
       "      <td>type1</td>\n",
       "      <td>p4</td>\n",
       "      <td>l1</td>\n",
       "      <td>nob/c</td>\n",
       "      <td>neg_amm</td>\n",
       "      <td>not_int</td>\n",
       "      <td>not_lpsm</td>\n",
       "      <td>...</td>\n",
       "      <td>0</td>\n",
       "      <td>0</td>\n",
       "      <td>0</td>\n",
       "      <td>0</td>\n",
       "      <td>0</td>\n",
       "      <td>0</td>\n",
       "      <td>1</td>\n",
       "      <td>0</td>\n",
       "      <td>0</td>\n",
       "      <td>0</td>\n",
       "    </tr>\n",
       "    <tr>\n",
       "      <th>85148</th>\n",
       "      <td>cf</td>\n",
       "      <td>Male</td>\n",
       "      <td>nopre</td>\n",
       "      <td>type1</td>\n",
       "      <td>p4</td>\n",
       "      <td>l1</td>\n",
       "      <td>nob/c</td>\n",
       "      <td>not_neg</td>\n",
       "      <td>not_int</td>\n",
       "      <td>not_lpsm</td>\n",
       "      <td>...</td>\n",
       "      <td>0</td>\n",
       "      <td>0</td>\n",
       "      <td>0</td>\n",
       "      <td>0</td>\n",
       "      <td>0</td>\n",
       "      <td>0</td>\n",
       "      <td>0</td>\n",
       "      <td>0</td>\n",
       "      <td>0</td>\n",
       "      <td>1</td>\n",
       "    </tr>\n",
       "  </tbody>\n",
       "</table>\n",
       "<p>5 rows × 51 columns</p>\n",
       "</div>"
      ],
      "text/plain": [
       "       loan_limit             Gender approv_in_adv loan_type loan_purpose  \\\n",
       "109421         cf             Female           pre     type2           p1   \n",
       "47176          cf  Sex Not Available         nopre     type1           p1   \n",
       "102322         cf              Joint         nopre     type2           p4   \n",
       "115375         cf               Male         nopre     type1           p4   \n",
       "85148          cf               Male         nopre     type1           p4   \n",
       "\n",
       "       Credit_Worthiness business_or_commercial Neg_ammortization  \\\n",
       "109421                l1                    b/c           not_neg   \n",
       "47176                 l1                  nob/c           neg_amm   \n",
       "102322                l1                    b/c           not_neg   \n",
       "115375                l1                  nob/c           neg_amm   \n",
       "85148                 l1                  nob/c           not_neg   \n",
       "\n",
       "       interest_only lump_sum_payment  ... age_35-44 age_45-54 age_55-64  \\\n",
       "109421       not_int         not_lpsm  ...         0         1         0   \n",
       "47176        not_int         not_lpsm  ...         0         0         0   \n",
       "102322       not_int         not_lpsm  ...         1         0         0   \n",
       "115375       not_int         not_lpsm  ...         0         0         0   \n",
       "85148        not_int         not_lpsm  ...         0         0         0   \n",
       "\n",
       "       age_65-74 age_<25 age_>74 submission_of_application_to_inst  \\\n",
       "109421         0       0       0                                 1   \n",
       "47176          0       0       0                                 1   \n",
       "102322         0       0       0                                 0   \n",
       "115375         0       0       0                                 1   \n",
       "85148          0       0       0                                 0   \n",
       "\n",
       "        Region_North-East  Region_central  Region_south  \n",
       "109421                  0               0             0  \n",
       "47176                   0               0             1  \n",
       "102322                  0               0             0  \n",
       "115375                  0               0             0  \n",
       "85148                   0               0             1  \n",
       "\n",
       "[5 rows x 51 columns]"
      ]
     },
     "execution_count": 46,
     "metadata": {},
     "output_type": "execute_result"
    }
   ],
   "source": [
    "X_train_obj = X_train.select_dtypes(include = ['object'])\n",
    "\n",
    "\n",
    "for col in X_train_obj :\n",
    "        dummies_col = pd.get_dummies(X_train[col], prefix = col, drop_first=True)\n",
    "        X_train_obj = pd.concat([X_train_obj, dummies_col], axis=1)\n",
    "\n",
    "\n",
    "X_train_obj.head()"
   ]
  },
  {
   "cell_type": "code",
   "execution_count": 47,
   "id": "6585b56b",
   "metadata": {
    "execution": {
     "iopub.execute_input": "2022-09-13T18:00:57.094579Z",
     "iopub.status.busy": "2022-09-13T18:00:57.094109Z",
     "iopub.status.idle": "2022-09-13T18:00:57.147524Z",
     "shell.execute_reply": "2022-09-13T18:00:57.145894Z"
    },
    "papermill": {
     "duration": 0.085356,
     "end_time": "2022-09-13T18:00:57.151209",
     "exception": false,
     "start_time": "2022-09-13T18:00:57.065853",
     "status": "completed"
    },
    "tags": []
   },
   "outputs": [],
   "source": [
    "X_train = pd.concat([X_train, X_train_obj], axis=1)"
   ]
  },
  {
   "cell_type": "code",
   "execution_count": 48,
   "id": "e02a1e19",
   "metadata": {
    "execution": {
     "iopub.execute_input": "2022-09-13T18:00:57.211300Z",
     "iopub.status.busy": "2022-09-13T18:00:57.210760Z",
     "iopub.status.idle": "2022-09-13T18:00:57.418159Z",
     "shell.execute_reply": "2022-09-13T18:00:57.417126Z"
    },
    "papermill": {
     "duration": 0.239596,
     "end_time": "2022-09-13T18:00:57.420600",
     "exception": false,
     "start_time": "2022-09-13T18:00:57.181004",
     "status": "completed"
    },
    "tags": []
   },
   "outputs": [],
   "source": [
    "to_be_dropped=pd.DataFrame(X_train.select_dtypes(include = ['object'])).columns\n",
    "\n",
    "X_train = X_train.drop(to_be_dropped,axis=1)"
   ]
  },
  {
   "cell_type": "code",
   "execution_count": 49,
   "id": "73b7556d",
   "metadata": {
    "execution": {
     "iopub.execute_input": "2022-09-13T18:00:57.479572Z",
     "iopub.status.busy": "2022-09-13T18:00:57.478467Z",
     "iopub.status.idle": "2022-09-13T18:00:57.503570Z",
     "shell.execute_reply": "2022-09-13T18:00:57.502369Z"
    },
    "papermill": {
     "duration": 0.05829,
     "end_time": "2022-09-13T18:00:57.506614",
     "exception": false,
     "start_time": "2022-09-13T18:00:57.448324",
     "status": "completed"
    },
    "tags": []
   },
   "outputs": [
    {
     "data": {
      "text/html": [
       "<div>\n",
       "<style scoped>\n",
       "    .dataframe tbody tr th:only-of-type {\n",
       "        vertical-align: middle;\n",
       "    }\n",
       "\n",
       "    .dataframe tbody tr th {\n",
       "        vertical-align: top;\n",
       "    }\n",
       "\n",
       "    .dataframe thead th {\n",
       "        text-align: right;\n",
       "    }\n",
       "</style>\n",
       "<table border=\"1\" class=\"dataframe\">\n",
       "  <thead>\n",
       "    <tr style=\"text-align: right;\">\n",
       "      <th></th>\n",
       "      <th>Credit_Score</th>\n",
       "      <th>dtir1</th>\n",
       "      <th>loan_amount</th>\n",
       "      <th>rate_of_interest</th>\n",
       "      <th>Interest_rate_spread</th>\n",
       "      <th>Upfront_charges</th>\n",
       "      <th>term</th>\n",
       "      <th>property_value</th>\n",
       "      <th>income</th>\n",
       "      <th>LTV</th>\n",
       "      <th>...</th>\n",
       "      <th>age_35-44</th>\n",
       "      <th>age_45-54</th>\n",
       "      <th>age_55-64</th>\n",
       "      <th>age_65-74</th>\n",
       "      <th>age_&lt;25</th>\n",
       "      <th>age_&gt;74</th>\n",
       "      <th>submission_of_application_to_inst</th>\n",
       "      <th>Region_North-East</th>\n",
       "      <th>Region_central</th>\n",
       "      <th>Region_south</th>\n",
       "    </tr>\n",
       "  </thead>\n",
       "  <tbody>\n",
       "    <tr>\n",
       "      <th>109421</th>\n",
       "      <td>651</td>\n",
       "      <td>32.000000</td>\n",
       "      <td>76500</td>\n",
       "      <td>4.375</td>\n",
       "      <td>1.544687</td>\n",
       "      <td>1736.31</td>\n",
       "      <td>360.0</td>\n",
       "      <td>78000.0</td>\n",
       "      <td>2760.000000</td>\n",
       "      <td>98.076923</td>\n",
       "      <td>...</td>\n",
       "      <td>0</td>\n",
       "      <td>1</td>\n",
       "      <td>0</td>\n",
       "      <td>0</td>\n",
       "      <td>0</td>\n",
       "      <td>0</td>\n",
       "      <td>1</td>\n",
       "      <td>0</td>\n",
       "      <td>0</td>\n",
       "      <td>0</td>\n",
       "    </tr>\n",
       "    <tr>\n",
       "      <th>47176</th>\n",
       "      <td>769</td>\n",
       "      <td>32.000000</td>\n",
       "      <td>306500</td>\n",
       "      <td>4.375</td>\n",
       "      <td>0.033000</td>\n",
       "      <td>3865.00</td>\n",
       "      <td>324.0</td>\n",
       "      <td>388000.0</td>\n",
       "      <td>4680.000000</td>\n",
       "      <td>78.994845</td>\n",
       "      <td>...</td>\n",
       "      <td>0</td>\n",
       "      <td>0</td>\n",
       "      <td>0</td>\n",
       "      <td>0</td>\n",
       "      <td>0</td>\n",
       "      <td>0</td>\n",
       "      <td>1</td>\n",
       "      <td>0</td>\n",
       "      <td>0</td>\n",
       "      <td>1</td>\n",
       "    </tr>\n",
       "    <tr>\n",
       "      <th>102322</th>\n",
       "      <td>558</td>\n",
       "      <td>37.732932</td>\n",
       "      <td>456500</td>\n",
       "      <td>3.125</td>\n",
       "      <td>0.530400</td>\n",
       "      <td>0.00</td>\n",
       "      <td>360.0</td>\n",
       "      <td>528000.0</td>\n",
       "      <td>6957.338876</td>\n",
       "      <td>86.458333</td>\n",
       "      <td>...</td>\n",
       "      <td>1</td>\n",
       "      <td>0</td>\n",
       "      <td>0</td>\n",
       "      <td>0</td>\n",
       "      <td>0</td>\n",
       "      <td>0</td>\n",
       "      <td>0</td>\n",
       "      <td>0</td>\n",
       "      <td>0</td>\n",
       "      <td>0</td>\n",
       "    </tr>\n",
       "    <tr>\n",
       "      <th>115375</th>\n",
       "      <td>724</td>\n",
       "      <td>36.000000</td>\n",
       "      <td>236500</td>\n",
       "      <td>4.375</td>\n",
       "      <td>0.547600</td>\n",
       "      <td>3800.09</td>\n",
       "      <td>240.0</td>\n",
       "      <td>298000.0</td>\n",
       "      <td>4020.000000</td>\n",
       "      <td>79.362416</td>\n",
       "      <td>...</td>\n",
       "      <td>0</td>\n",
       "      <td>0</td>\n",
       "      <td>0</td>\n",
       "      <td>0</td>\n",
       "      <td>0</td>\n",
       "      <td>0</td>\n",
       "      <td>1</td>\n",
       "      <td>0</td>\n",
       "      <td>0</td>\n",
       "      <td>0</td>\n",
       "    </tr>\n",
       "    <tr>\n",
       "      <th>85148</th>\n",
       "      <td>550</td>\n",
       "      <td>38.000000</td>\n",
       "      <td>636500</td>\n",
       "      <td>3.375</td>\n",
       "      <td>0.122400</td>\n",
       "      <td>0.00</td>\n",
       "      <td>240.0</td>\n",
       "      <td>998000.0</td>\n",
       "      <td>8760.000000</td>\n",
       "      <td>63.777555</td>\n",
       "      <td>...</td>\n",
       "      <td>0</td>\n",
       "      <td>0</td>\n",
       "      <td>0</td>\n",
       "      <td>0</td>\n",
       "      <td>0</td>\n",
       "      <td>0</td>\n",
       "      <td>0</td>\n",
       "      <td>0</td>\n",
       "      <td>0</td>\n",
       "      <td>1</td>\n",
       "    </tr>\n",
       "  </tbody>\n",
       "</table>\n",
       "<p>5 rows × 44 columns</p>\n",
       "</div>"
      ],
      "text/plain": [
       "        Credit_Score      dtir1  loan_amount  rate_of_interest  \\\n",
       "109421           651  32.000000        76500             4.375   \n",
       "47176            769  32.000000       306500             4.375   \n",
       "102322           558  37.732932       456500             3.125   \n",
       "115375           724  36.000000       236500             4.375   \n",
       "85148            550  38.000000       636500             3.375   \n",
       "\n",
       "        Interest_rate_spread  Upfront_charges   term  property_value  \\\n",
       "109421              1.544687          1736.31  360.0         78000.0   \n",
       "47176               0.033000          3865.00  324.0        388000.0   \n",
       "102322              0.530400             0.00  360.0        528000.0   \n",
       "115375              0.547600          3800.09  240.0        298000.0   \n",
       "85148               0.122400             0.00  240.0        998000.0   \n",
       "\n",
       "             income        LTV  ...  age_35-44  age_45-54  age_55-64  \\\n",
       "109421  2760.000000  98.076923  ...          0          1          0   \n",
       "47176   4680.000000  78.994845  ...          0          0          0   \n",
       "102322  6957.338876  86.458333  ...          1          0          0   \n",
       "115375  4020.000000  79.362416  ...          0          0          0   \n",
       "85148   8760.000000  63.777555  ...          0          0          0   \n",
       "\n",
       "        age_65-74  age_<25  age_>74  submission_of_application_to_inst  \\\n",
       "109421          0        0        0                                  1   \n",
       "47176           0        0        0                                  1   \n",
       "102322          0        0        0                                  0   \n",
       "115375          0        0        0                                  1   \n",
       "85148           0        0        0                                  0   \n",
       "\n",
       "        Region_North-East  Region_central  Region_south  \n",
       "109421                  0               0             0  \n",
       "47176                   0               0             1  \n",
       "102322                  0               0             0  \n",
       "115375                  0               0             0  \n",
       "85148                   0               0             1  \n",
       "\n",
       "[5 rows x 44 columns]"
      ]
     },
     "execution_count": 49,
     "metadata": {},
     "output_type": "execute_result"
    }
   ],
   "source": [
    " X_train.head()"
   ]
  },
  {
   "cell_type": "markdown",
   "id": "1d991855",
   "metadata": {
    "papermill": {
     "duration": 0.028033,
     "end_time": "2022-09-13T18:00:57.562701",
     "exception": false,
     "start_time": "2022-09-13T18:00:57.534668",
     "status": "completed"
    },
    "tags": []
   },
   "source": [
    "### Preprocessing the Test Data separately"
   ]
  },
  {
   "cell_type": "code",
   "execution_count": 50,
   "id": "0f226f1e",
   "metadata": {
    "execution": {
     "iopub.execute_input": "2022-09-13T18:00:57.622673Z",
     "iopub.status.busy": "2022-09-13T18:00:57.622206Z",
     "iopub.status.idle": "2022-09-13T18:00:58.033378Z",
     "shell.execute_reply": "2022-09-13T18:00:58.032180Z"
    },
    "papermill": {
     "duration": 0.444951,
     "end_time": "2022-09-13T18:00:58.036383",
     "exception": false,
     "start_time": "2022-09-13T18:00:57.591432",
     "status": "completed"
    },
    "tags": []
   },
   "outputs": [],
   "source": [
    "# 1. Handling the outliers (Using transform method for Test data)\n",
    "outliers_df = outliers.transform(X_test[outliers_features])\n",
    "\n",
    "X_test.drop(outliers_features, axis=1, inplace=True)\n",
    "\n",
    "X_test = pd.concat([X_test, outliers_df], axis=1)\n",
    "\n",
    "# 2. OneHotEncoding\n",
    "\n",
    "X_test_obj = X_test.select_dtypes(include = ['object'])\n",
    "\n",
    "\n",
    "for col in X_test_obj :\n",
    "        dummies_col = pd.get_dummies(X_test[col], prefix = col, drop_first=True)\n",
    "        X_test_obj = pd.concat([X_test_obj, dummies_col], axis=1)\n",
    "\n",
    "\n",
    "X_test_obj.head()\n",
    "\n",
    "X_test = pd.concat([X_test, X_test_obj], axis=1)\n",
    "\n",
    "to_be_dropped=pd.DataFrame(X_test.select_dtypes(include = ['object'])).columns\n",
    "\n",
    "X_test = X_test.drop(to_be_dropped,axis=1)"
   ]
  },
  {
   "cell_type": "code",
   "execution_count": 51,
   "id": "345ca1af",
   "metadata": {
    "execution": {
     "iopub.execute_input": "2022-09-13T18:00:58.094384Z",
     "iopub.status.busy": "2022-09-13T18:00:58.093976Z",
     "iopub.status.idle": "2022-09-13T18:00:58.121142Z",
     "shell.execute_reply": "2022-09-13T18:00:58.119737Z"
    },
    "papermill": {
     "duration": 0.059586,
     "end_time": "2022-09-13T18:00:58.123804",
     "exception": false,
     "start_time": "2022-09-13T18:00:58.064218",
     "status": "completed"
    },
    "tags": []
   },
   "outputs": [
    {
     "data": {
      "text/html": [
       "<div>\n",
       "<style scoped>\n",
       "    .dataframe tbody tr th:only-of-type {\n",
       "        vertical-align: middle;\n",
       "    }\n",
       "\n",
       "    .dataframe tbody tr th {\n",
       "        vertical-align: top;\n",
       "    }\n",
       "\n",
       "    .dataframe thead th {\n",
       "        text-align: right;\n",
       "    }\n",
       "</style>\n",
       "<table border=\"1\" class=\"dataframe\">\n",
       "  <thead>\n",
       "    <tr style=\"text-align: right;\">\n",
       "      <th></th>\n",
       "      <th>Credit_Score</th>\n",
       "      <th>dtir1</th>\n",
       "      <th>loan_amount</th>\n",
       "      <th>rate_of_interest</th>\n",
       "      <th>Interest_rate_spread</th>\n",
       "      <th>Upfront_charges</th>\n",
       "      <th>term</th>\n",
       "      <th>property_value</th>\n",
       "      <th>income</th>\n",
       "      <th>LTV</th>\n",
       "      <th>...</th>\n",
       "      <th>age_35-44</th>\n",
       "      <th>age_45-54</th>\n",
       "      <th>age_55-64</th>\n",
       "      <th>age_65-74</th>\n",
       "      <th>age_&lt;25</th>\n",
       "      <th>age_&gt;74</th>\n",
       "      <th>submission_of_application_to_inst</th>\n",
       "      <th>Region_North-East</th>\n",
       "      <th>Region_central</th>\n",
       "      <th>Region_south</th>\n",
       "    </tr>\n",
       "  </thead>\n",
       "  <tbody>\n",
       "    <tr>\n",
       "      <th>22328</th>\n",
       "      <td>881</td>\n",
       "      <td>24.0</td>\n",
       "      <td>136500</td>\n",
       "      <td>4.125000</td>\n",
       "      <td>0.793300</td>\n",
       "      <td>3633.500000</td>\n",
       "      <td>324.0</td>\n",
       "      <td>168000.0</td>\n",
       "      <td>3480.0</td>\n",
       "      <td>81.250000</td>\n",
       "      <td>...</td>\n",
       "      <td>0</td>\n",
       "      <td>0</td>\n",
       "      <td>0</td>\n",
       "      <td>0</td>\n",
       "      <td>0</td>\n",
       "      <td>0</td>\n",
       "      <td>1</td>\n",
       "      <td>0</td>\n",
       "      <td>0</td>\n",
       "      <td>1</td>\n",
       "    </tr>\n",
       "    <tr>\n",
       "      <th>35757</th>\n",
       "      <td>767</td>\n",
       "      <td>44.0</td>\n",
       "      <td>396500</td>\n",
       "      <td>4.000000</td>\n",
       "      <td>0.188800</td>\n",
       "      <td>0.000000</td>\n",
       "      <td>240.0</td>\n",
       "      <td>548000.0</td>\n",
       "      <td>8160.0</td>\n",
       "      <td>72.354015</td>\n",
       "      <td>...</td>\n",
       "      <td>0</td>\n",
       "      <td>0</td>\n",
       "      <td>0</td>\n",
       "      <td>0</td>\n",
       "      <td>0</td>\n",
       "      <td>0</td>\n",
       "      <td>0</td>\n",
       "      <td>0</td>\n",
       "      <td>0</td>\n",
       "      <td>1</td>\n",
       "    </tr>\n",
       "    <tr>\n",
       "      <th>97235</th>\n",
       "      <td>769</td>\n",
       "      <td>48.0</td>\n",
       "      <td>386500</td>\n",
       "      <td>3.750000</td>\n",
       "      <td>0.587000</td>\n",
       "      <td>1690.000000</td>\n",
       "      <td>240.0</td>\n",
       "      <td>528000.0</td>\n",
       "      <td>5760.0</td>\n",
       "      <td>73.200758</td>\n",
       "      <td>...</td>\n",
       "      <td>0</td>\n",
       "      <td>0</td>\n",
       "      <td>0</td>\n",
       "      <td>0</td>\n",
       "      <td>0</td>\n",
       "      <td>0</td>\n",
       "      <td>0</td>\n",
       "      <td>0</td>\n",
       "      <td>0</td>\n",
       "      <td>1</td>\n",
       "    </tr>\n",
       "    <tr>\n",
       "      <th>110623</th>\n",
       "      <td>516</td>\n",
       "      <td>42.0</td>\n",
       "      <td>176500</td>\n",
       "      <td>4.500000</td>\n",
       "      <td>0.972000</td>\n",
       "      <td>3953.130000</td>\n",
       "      <td>180.0</td>\n",
       "      <td>208000.0</td>\n",
       "      <td>5040.0</td>\n",
       "      <td>84.855769</td>\n",
       "      <td>...</td>\n",
       "      <td>0</td>\n",
       "      <td>0</td>\n",
       "      <td>1</td>\n",
       "      <td>0</td>\n",
       "      <td>0</td>\n",
       "      <td>0</td>\n",
       "      <td>1</td>\n",
       "      <td>0</td>\n",
       "      <td>0</td>\n",
       "      <td>0</td>\n",
       "    </tr>\n",
       "    <tr>\n",
       "      <th>89260</th>\n",
       "      <td>648</td>\n",
       "      <td>52.0</td>\n",
       "      <td>106500</td>\n",
       "      <td>4.045476</td>\n",
       "      <td>0.441656</td>\n",
       "      <td>3224.996127</td>\n",
       "      <td>360.0</td>\n",
       "      <td>118000.0</td>\n",
       "      <td>2220.0</td>\n",
       "      <td>90.254237</td>\n",
       "      <td>...</td>\n",
       "      <td>0</td>\n",
       "      <td>1</td>\n",
       "      <td>0</td>\n",
       "      <td>0</td>\n",
       "      <td>0</td>\n",
       "      <td>0</td>\n",
       "      <td>1</td>\n",
       "      <td>0</td>\n",
       "      <td>0</td>\n",
       "      <td>1</td>\n",
       "    </tr>\n",
       "  </tbody>\n",
       "</table>\n",
       "<p>5 rows × 44 columns</p>\n",
       "</div>"
      ],
      "text/plain": [
       "        Credit_Score  dtir1  loan_amount  rate_of_interest  \\\n",
       "22328            881   24.0       136500          4.125000   \n",
       "35757            767   44.0       396500          4.000000   \n",
       "97235            769   48.0       386500          3.750000   \n",
       "110623           516   42.0       176500          4.500000   \n",
       "89260            648   52.0       106500          4.045476   \n",
       "\n",
       "        Interest_rate_spread  Upfront_charges   term  property_value  income  \\\n",
       "22328               0.793300      3633.500000  324.0        168000.0  3480.0   \n",
       "35757               0.188800         0.000000  240.0        548000.0  8160.0   \n",
       "97235               0.587000      1690.000000  240.0        528000.0  5760.0   \n",
       "110623              0.972000      3953.130000  180.0        208000.0  5040.0   \n",
       "89260               0.441656      3224.996127  360.0        118000.0  2220.0   \n",
       "\n",
       "              LTV  ...  age_35-44  age_45-54  age_55-64  age_65-74  age_<25  \\\n",
       "22328   81.250000  ...          0          0          0          0        0   \n",
       "35757   72.354015  ...          0          0          0          0        0   \n",
       "97235   73.200758  ...          0          0          0          0        0   \n",
       "110623  84.855769  ...          0          0          1          0        0   \n",
       "89260   90.254237  ...          0          1          0          0        0   \n",
       "\n",
       "        age_>74  submission_of_application_to_inst  Region_North-East  \\\n",
       "22328         0                                  1                  0   \n",
       "35757         0                                  0                  0   \n",
       "97235         0                                  0                  0   \n",
       "110623        0                                  1                  0   \n",
       "89260         0                                  1                  0   \n",
       "\n",
       "        Region_central  Region_south  \n",
       "22328                0             1  \n",
       "35757                0             1  \n",
       "97235                0             1  \n",
       "110623               0             0  \n",
       "89260                0             1  \n",
       "\n",
       "[5 rows x 44 columns]"
      ]
     },
     "execution_count": 51,
     "metadata": {},
     "output_type": "execute_result"
    }
   ],
   "source": [
    "X_test.head()"
   ]
  },
  {
   "cell_type": "code",
   "execution_count": 52,
   "id": "d0760083",
   "metadata": {
    "execution": {
     "iopub.execute_input": "2022-09-13T18:00:58.181607Z",
     "iopub.status.busy": "2022-09-13T18:00:58.181190Z",
     "iopub.status.idle": "2022-09-13T18:00:58.189129Z",
     "shell.execute_reply": "2022-09-13T18:00:58.188045Z"
    },
    "papermill": {
     "duration": 0.039724,
     "end_time": "2022-09-13T18:00:58.191273",
     "exception": false,
     "start_time": "2022-09-13T18:00:58.151549",
     "status": "completed"
    },
    "tags": []
   },
   "outputs": [
    {
     "data": {
      "text/plain": [
       "True"
      ]
     },
     "execution_count": 52,
     "metadata": {},
     "output_type": "execute_result"
    }
   ],
   "source": [
    "(X_train.columns == X_test.columns).all()"
   ]
  },
  {
   "cell_type": "markdown",
   "id": "c2c1d1c7",
   "metadata": {
    "papermill": {
     "duration": 0.026999,
     "end_time": "2022-09-13T18:00:58.245615",
     "exception": false,
     "start_time": "2022-09-13T18:00:58.218616",
     "status": "completed"
    },
    "tags": []
   },
   "source": [
    "# Model Building\n"
   ]
  },
  {
   "cell_type": "markdown",
   "id": "cd3f346a",
   "metadata": {
    "papermill": {
     "duration": 0.026745,
     "end_time": "2022-09-13T18:00:58.299554",
     "exception": false,
     "start_time": "2022-09-13T18:00:58.272809",
     "status": "completed"
    },
    "tags": []
   },
   "source": [
    "### Logistic Regression"
   ]
  },
  {
   "cell_type": "code",
   "execution_count": 53,
   "id": "34d00fed",
   "metadata": {
    "execution": {
     "iopub.execute_input": "2022-09-13T18:00:58.356561Z",
     "iopub.status.busy": "2022-09-13T18:00:58.356151Z",
     "iopub.status.idle": "2022-09-13T18:00:59.371300Z",
     "shell.execute_reply": "2022-09-13T18:00:59.370088Z"
    },
    "papermill": {
     "duration": 1.046829,
     "end_time": "2022-09-13T18:00:59.374490",
     "exception": false,
     "start_time": "2022-09-13T18:00:58.327661",
     "status": "completed"
    },
    "tags": []
   },
   "outputs": [
    {
     "data": {
      "text/plain": [
       "0.5285366402684838"
      ]
     },
     "execution_count": 53,
     "metadata": {},
     "output_type": "execute_result"
    }
   ],
   "source": [
    "log = LogisticRegression(class_weight=\"balanced\")\n",
    "log_model = log.fit(X_train, y_train)\n",
    "log_model.score(X_test, y_test)"
   ]
  },
  {
   "cell_type": "markdown",
   "id": "9c187fc9",
   "metadata": {
    "papermill": {
     "duration": 0.043974,
     "end_time": "2022-09-13T18:00:59.462058",
     "exception": false,
     "start_time": "2022-09-13T18:00:59.418084",
     "status": "completed"
    },
    "tags": []
   },
   "source": [
    "### Decision Tree Algorithm"
   ]
  },
  {
   "cell_type": "code",
   "execution_count": 54,
   "id": "59553284",
   "metadata": {
    "execution": {
     "iopub.execute_input": "2022-09-13T18:00:59.526254Z",
     "iopub.status.busy": "2022-09-13T18:00:59.525474Z",
     "iopub.status.idle": "2022-09-13T18:00:59.885945Z",
     "shell.execute_reply": "2022-09-13T18:00:59.884427Z"
    },
    "papermill": {
     "duration": 0.391753,
     "end_time": "2022-09-13T18:00:59.889116",
     "exception": false,
     "start_time": "2022-09-13T18:00:59.497363",
     "status": "completed"
    },
    "tags": []
   },
   "outputs": [
    {
     "data": {
      "text/plain": [
       "0.9999795362923855"
      ]
     },
     "execution_count": 54,
     "metadata": {},
     "output_type": "execute_result"
    }
   ],
   "source": [
    "dt_model=DecisionTreeClassifier(class_weight=\"balanced\")\n",
    "dt_model.fit(X_train,y_train)\n",
    "dt_model.score(X_test, y_test)"
   ]
  },
  {
   "cell_type": "markdown",
   "id": "4cf09bb8",
   "metadata": {
    "papermill": {
     "duration": 0.027943,
     "end_time": "2022-09-13T18:00:59.944774",
     "exception": false,
     "start_time": "2022-09-13T18:00:59.916831",
     "status": "completed"
    },
    "tags": []
   },
   "source": [
    "### Random Forest Algorithm\n"
   ]
  },
  {
   "cell_type": "code",
   "execution_count": 55,
   "id": "d8af290b",
   "metadata": {
    "execution": {
     "iopub.execute_input": "2022-09-13T18:00:59.999772Z",
     "iopub.status.busy": "2022-09-13T18:00:59.999363Z",
     "iopub.status.idle": "2022-09-13T18:01:09.682562Z",
     "shell.execute_reply": "2022-09-13T18:01:09.681147Z"
    },
    "papermill": {
     "duration": 9.713894,
     "end_time": "2022-09-13T18:01:09.685277",
     "exception": false,
     "start_time": "2022-09-13T18:00:59.971383",
     "status": "completed"
    },
    "tags": []
   },
   "outputs": [
    {
     "data": {
      "text/plain": [
       "1.0"
      ]
     },
     "execution_count": 55,
     "metadata": {},
     "output_type": "execute_result"
    }
   ],
   "source": [
    "rf = RandomForestClassifier(class_weight=\"balanced\")\n",
    "rf_model = rf.fit(X_train, y_train)\n",
    "rf_model.score(X_test, y_test)\n"
   ]
  },
  {
   "cell_type": "markdown",
   "id": "35879353",
   "metadata": {
    "papermill": {
     "duration": 0.027565,
     "end_time": "2022-09-13T18:01:09.740092",
     "exception": false,
     "start_time": "2022-09-13T18:01:09.712527",
     "status": "completed"
    },
    "tags": []
   },
   "source": [
    "### Tuning the Hyperparameters of RandomForest Model"
   ]
  },
  {
   "cell_type": "code",
   "execution_count": 56,
   "id": "bf0eef26",
   "metadata": {
    "execution": {
     "iopub.execute_input": "2022-09-13T18:01:09.796898Z",
     "iopub.status.busy": "2022-09-13T18:01:09.796419Z",
     "iopub.status.idle": "2022-09-13T18:01:09.802220Z",
     "shell.execute_reply": "2022-09-13T18:01:09.801331Z"
    },
    "papermill": {
     "duration": 0.036289,
     "end_time": "2022-09-13T18:01:09.804337",
     "exception": false,
     "start_time": "2022-09-13T18:01:09.768048",
     "status": "completed"
    },
    "tags": []
   },
   "outputs": [],
   "source": [
    "rf_params = {\n",
    "    'n_estimators' : [100,150,140,150],\n",
    "    'max_depth' : [4,5,1,2,None],\n",
    "    'min_samples_split' : [2,3,4,5],\n",
    "    'min_samples_leaf' : [1,4,10,20],\n",
    "    'max_leaf_nodes' : [2,5,10,None]\n",
    "}"
   ]
  },
  {
   "cell_type": "code",
   "execution_count": 57,
   "id": "258c625d",
   "metadata": {
    "execution": {
     "iopub.execute_input": "2022-09-13T18:01:09.862167Z",
     "iopub.status.busy": "2022-09-13T18:01:09.861082Z",
     "iopub.status.idle": "2022-09-13T18:01:09.866980Z",
     "shell.execute_reply": "2022-09-13T18:01:09.865800Z"
    },
    "papermill": {
     "duration": 0.036927,
     "end_time": "2022-09-13T18:01:09.869323",
     "exception": false,
     "start_time": "2022-09-13T18:01:09.832396",
     "status": "completed"
    },
    "tags": []
   },
   "outputs": [],
   "source": [
    "rf_rs = RandomizedSearchCV(rf, rf_params, cv=5, n_iter=10)"
   ]
  },
  {
   "cell_type": "code",
   "execution_count": 58,
   "id": "8ec496e4",
   "metadata": {
    "execution": {
     "iopub.execute_input": "2022-09-13T18:01:09.925757Z",
     "iopub.status.busy": "2022-09-13T18:01:09.924999Z",
     "iopub.status.idle": "2022-09-13T18:05:13.444420Z",
     "shell.execute_reply": "2022-09-13T18:05:13.443223Z"
    },
    "papermill": {
     "duration": 243.551498,
     "end_time": "2022-09-13T18:05:13.447506",
     "exception": false,
     "start_time": "2022-09-13T18:01:09.896008",
     "status": "completed"
    },
    "tags": []
   },
   "outputs": [],
   "source": [
    "rf_best_model = rf_rs.fit(X_train, y_train)"
   ]
  },
  {
   "cell_type": "code",
   "execution_count": 59,
   "id": "99cee0ec",
   "metadata": {
    "execution": {
     "iopub.execute_input": "2022-09-13T18:05:13.504471Z",
     "iopub.status.busy": "2022-09-13T18:05:13.503687Z",
     "iopub.status.idle": "2022-09-13T18:05:14.064583Z",
     "shell.execute_reply": "2022-09-13T18:05:14.063175Z"
    },
    "papermill": {
     "duration": 0.592708,
     "end_time": "2022-09-13T18:05:14.068277",
     "exception": false,
     "start_time": "2022-09-13T18:05:13.475569",
     "status": "completed"
    },
    "tags": []
   },
   "outputs": [
    {
     "data": {
      "text/plain": [
       "1.0"
      ]
     },
     "execution_count": 59,
     "metadata": {},
     "output_type": "execute_result"
    }
   ],
   "source": [
    "rf_best_model.score(X_test, y_test)"
   ]
  },
  {
   "cell_type": "code",
   "execution_count": 60,
   "id": "0c8fcfe8",
   "metadata": {
    "execution": {
     "iopub.execute_input": "2022-09-13T18:05:14.127193Z",
     "iopub.status.busy": "2022-09-13T18:05:14.126430Z",
     "iopub.status.idle": "2022-09-13T18:05:14.134731Z",
     "shell.execute_reply": "2022-09-13T18:05:14.133197Z"
    },
    "papermill": {
     "duration": 0.04084,
     "end_time": "2022-09-13T18:05:14.137080",
     "exception": false,
     "start_time": "2022-09-13T18:05:14.096240",
     "status": "completed"
    },
    "tags": []
   },
   "outputs": [
    {
     "data": {
      "text/plain": [
       "{'n_estimators': 150,\n",
       " 'min_samples_split': 2,\n",
       " 'min_samples_leaf': 10,\n",
       " 'max_leaf_nodes': None,\n",
       " 'max_depth': 4}"
      ]
     },
     "execution_count": 60,
     "metadata": {},
     "output_type": "execute_result"
    }
   ],
   "source": [
    "rf_best_model.best_params_"
   ]
  },
  {
   "cell_type": "code",
   "execution_count": 61,
   "id": "8433e6c5",
   "metadata": {
    "execution": {
     "iopub.execute_input": "2022-09-13T18:05:14.194102Z",
     "iopub.status.busy": "2022-09-13T18:05:14.193635Z",
     "iopub.status.idle": "2022-09-13T18:05:14.203581Z",
     "shell.execute_reply": "2022-09-13T18:05:14.202353Z"
    },
    "papermill": {
     "duration": 0.041825,
     "end_time": "2022-09-13T18:05:14.206168",
     "exception": false,
     "start_time": "2022-09-13T18:05:14.164343",
     "status": "completed"
    },
    "tags": []
   },
   "outputs": [
    {
     "data": {
      "text/plain": [
       "RandomForestClassifier(class_weight='balanced', max_depth=4,\n",
       "                       min_samples_leaf=10, n_estimators=150)"
      ]
     },
     "execution_count": 61,
     "metadata": {},
     "output_type": "execute_result"
    }
   ],
   "source": [
    "rf_best_model.best_estimator_"
   ]
  },
  {
   "cell_type": "markdown",
   "id": "7183fcff",
   "metadata": {
    "papermill": {
     "duration": 0.02806,
     "end_time": "2022-09-13T18:05:14.261836",
     "exception": false,
     "start_time": "2022-09-13T18:05:14.233776",
     "status": "completed"
    },
    "tags": []
   },
   "source": [
    "# Model Performance"
   ]
  },
  {
   "cell_type": "code",
   "execution_count": 62,
   "id": "561ac6fe",
   "metadata": {
    "execution": {
     "iopub.execute_input": "2022-09-13T18:05:14.319617Z",
     "iopub.status.busy": "2022-09-13T18:05:14.319174Z",
     "iopub.status.idle": "2022-09-13T18:05:14.878008Z",
     "shell.execute_reply": "2022-09-13T18:05:14.876777Z"
    },
    "papermill": {
     "duration": 0.59145,
     "end_time": "2022-09-13T18:05:14.880931",
     "exception": false,
     "start_time": "2022-09-13T18:05:14.289481",
     "status": "completed"
    },
    "tags": []
   },
   "outputs": [],
   "source": [
    "y_pred = rf_best_model.predict(X_test)\n"
   ]
  },
  {
   "cell_type": "code",
   "execution_count": 63,
   "id": "d7599f44",
   "metadata": {
    "execution": {
     "iopub.execute_input": "2022-09-13T18:05:14.938041Z",
     "iopub.status.busy": "2022-09-13T18:05:14.937309Z",
     "iopub.status.idle": "2022-09-13T18:05:15.752942Z",
     "shell.execute_reply": "2022-09-13T18:05:15.751764Z"
    },
    "papermill": {
     "duration": 0.847647,
     "end_time": "2022-09-13T18:05:15.755824",
     "exception": false,
     "start_time": "2022-09-13T18:05:14.908177",
     "status": "completed"
    },
    "tags": []
   },
   "outputs": [
    {
     "data": {
      "image/png": "[encoded data removed]",
      "text/plain": [
       "<Figure size 432x288 with 2 Axes>"
      ]
     },
     "metadata": {
      "needs_background": "light"
     },
     "output_type": "display_data"
    }
   ],
   "source": [
    "plot_confusion_matrix(rf_best_model, X_test, y_test)\n",
    "plt.title('Confusion Matrix\\n')\n",
    "plt.show()"
   ]
  },
  {
   "cell_type": "code",
   "execution_count": 64,
   "id": "755258f6",
   "metadata": {
    "execution": {
     "iopub.execute_input": "2022-09-13T18:05:15.816482Z",
     "iopub.status.busy": "2022-09-13T18:05:15.815370Z",
     "iopub.status.idle": "2022-09-13T18:05:15.916123Z",
     "shell.execute_reply": "2022-09-13T18:05:15.915080Z"
    },
    "papermill": {
     "duration": 0.135237,
     "end_time": "2022-09-13T18:05:15.919916",
     "exception": false,
     "start_time": "2022-09-13T18:05:15.784679",
     "status": "completed"
    },
    "tags": []
   },
   "outputs": [
    {
     "name": "stdout",
     "output_type": "stream",
     "text": [
      "Classification Report:\n",
      "\n",
      "               precision    recall  f1-score   support\n",
      "\n",
      "           0       1.00      1.00      1.00     36854\n",
      "           1       1.00      1.00      1.00     12013\n",
      "\n",
      "    accuracy                           1.00     48867\n",
      "   macro avg       1.00      1.00      1.00     48867\n",
      "weighted avg       1.00      1.00      1.00     48867\n",
      "\n"
     ]
    }
   ],
   "source": [
    "print(\"Classification Report:\\n\\n\", classification_report(y_test, y_pred))"
   ]
  },
  {
   "cell_type": "code",
   "execution_count": 65,
   "id": "f9dc45f8",
   "metadata": {
    "execution": {
     "iopub.execute_input": "2022-09-13T18:05:15.984865Z",
     "iopub.status.busy": "2022-09-13T18:05:15.983861Z",
     "iopub.status.idle": "2022-09-13T18:05:16.926969Z",
     "shell.execute_reply": "2022-09-13T18:05:16.925726Z"
    },
    "papermill": {
     "duration": 0.976181,
     "end_time": "2022-09-13T18:05:16.929763",
     "exception": false,
     "start_time": "2022-09-13T18:05:15.953582",
     "status": "completed"
    },
    "tags": []
   },
   "outputs": [
    {
     "data": {
      "image/png": "[encoded data removed]",
      "text/plain": [
       "<Figure size 432x288 with 1 Axes>"
      ]
     },
     "metadata": {
      "needs_background": "light"
     },
     "output_type": "display_data"
    }
   ],
   "source": [
    "plot_roc_curve(rf_best_model, X_test, y_test)\n",
    "plt.title('ROC-AUC\\n')\n",
    "plt.show()"
   ]
  }
 ],
 "metadata": {
  "kernelspec": {
   "display_name": "Python 3",
   "language": "python",
   "name": "python3"
  },
  "language_info": {
   "codemirror_mode": {
    "name": "ipython",
    "version": 3
   },
   "file_extension": ".py",
   "mimetype": "text/x-python",
   "name": "python",
   "nbconvert_exporter": "python",
   "pygments_lexer": "ipython3",
   "version": "3.7.12"
  },
  "papermill": {
   "default_parameters": {},
   "duration": 284.571857,
   "end_time": "2022-09-13T18:05:17.882414",
   "environment_variables": {},
   "exception": null,
   "input_path": "__notebook__.ipynb",
   "output_path": "__notebook__.ipynb",
   "parameters": {},
   "start_time": "2022-09-13T18:00:33.310557",
   "version": "2.3.4"
  }
 },
 "nbformat": 4,
 "nbformat_minor": 5
}
